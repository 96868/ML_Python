{
  "nbformat": 4,
  "nbformat_minor": 0,
  "metadata": {
    "colab": {
      "provenance": [],
      "authorship_tag": "ABX9TyO7XkS0Dd+01t1VZqj7/DJk",
      "include_colab_link": true
    },
    "kernelspec": {
      "name": "python3",
      "display_name": "Python 3"
    },
    "language_info": {
      "name": "python"
    }
  },
  "cells": [
    {
      "cell_type": "markdown",
      "metadata": {
        "id": "view-in-github",
        "colab_type": "text"
      },
      "source": [
        "<a href=\"https://colab.research.google.com/github/96868/ML_Python/blob/main/class6.ipynb\" target=\"_parent\"><img src=\"https://colab.research.google.com/assets/colab-badge.svg\" alt=\"Open In Colab\"/></a>"
      ]
    },
    {
      "cell_type": "markdown",
      "source": [
        "***class 6***"
      ],
      "metadata": {
        "id": "4pUEsV_RWQ9c"
      }
    },
    {
      "cell_type": "code",
      "source": [
        "# 1. create a function using positional arguments\n",
        "def name(a,b):\n",
        "  print(\"The first name is {0} and the second name is {1}\".format(a,b))\n",
        "name(\"Sreenivasan\",\"Medha\")\n",
        "name(\"Medha\",\"Sreenivasan\")\n"
      ],
      "metadata": {
        "colab": {
          "base_uri": "https://localhost:8080/"
        },
        "id": "9JqnQcRHwOI1",
        "outputId": "41c0cbb0-adcd-4d71-cfa9-add94fb04bf6"
      },
      "execution_count": null,
      "outputs": [
        {
          "output_type": "stream",
          "name": "stdout",
          "text": [
            "The first name is Sreenivasan and the second name is Medha\n",
            "The first name is Medha and the second name is Sreenivasan\n"
          ]
        }
      ]
    },
    {
      "cell_type": "code",
      "source": [
        "# 2. create a function using keyword arguments\n",
        "def name(a,b):\n",
        "  print(\"The first name is {0} and the second name is {1}\".format(a,b))\n",
        "name(b=\"Sreenivasan\",a=\"Medha\")"
      ],
      "metadata": {
        "colab": {
          "base_uri": "https://localhost:8080/"
        },
        "id": "hGL8A7oxrJKc",
        "outputId": "020e7251-1093-4456-f069-69c702cb8f9c"
      },
      "execution_count": null,
      "outputs": [
        {
          "output_type": "stream",
          "name": "stdout",
          "text": [
            "The first name is Medha and the second name is Sreenivasan\n"
          ]
        }
      ]
    },
    {
      "cell_type": "code",
      "source": [
        "# 3. create a function using default arguments\n",
        "def name(a = \"Medha\",b = \"Sreenivasan\"):\n",
        "  print(\"The first name is {0} and the second name is {1}\".format(a,b))\n",
        "name()"
      ],
      "metadata": {
        "colab": {
          "base_uri": "https://localhost:8080/"
        },
        "id": "HQLD8B6bx-Qp",
        "outputId": "58ba828e-aaae-479f-cdef-660bc9124219"
      },
      "execution_count": null,
      "outputs": [
        {
          "output_type": "stream",
          "name": "stdout",
          "text": [
            "The first name is Medha and the second name is Sreenivasan\n"
          ]
        }
      ]
    },
    {
      "cell_type": "code",
      "source": [
        "# 4. create a function using keyword and  arguments\n",
        "def name(b,a):\n",
        "  print(\"The first name is {0} and the second name is {1}\".format(a,b))\n",
        "name(\"Sreenivasan\",a=\"Medha\")"
      ],
      "metadata": {
        "colab": {
          "base_uri": "https://localhost:8080/"
        },
        "id": "ny3oiwc7yxoi",
        "outputId": "a8839e0b-b714-4d06-fa7f-b02db8d8ec32"
      },
      "execution_count": null,
      "outputs": [
        {
          "output_type": "stream",
          "name": "stdout",
          "text": [
            "The first name is Medha and the second name is Sreenivasan\n"
          ]
        }
      ]
    },
    {
      "cell_type": "markdown",
      "source": [
        "remember first positional argument will be called then keyword argument like in the 4th problem"
      ],
      "metadata": {
        "id": "Pca6ZxVpykKm"
      }
    },
    {
      "cell_type": "code",
      "source": [
        "# 5. create a function to give a variable number of input arguments to a single variable\n",
        "def school(school,teacher,*args):\n",
        "  print(\"{0} is the teacher of {1} school\\nher students are \".format(teacher,school))\n",
        "  for stu in args:\n",
        "    print(\"\\n{0}\".format(stu))\n",
        "school(\"Bishops\",\"Sanjtha\",\"Riya\",\"Abhinaya\",\"Srinidhi\")\n"
      ],
      "metadata": {
        "colab": {
          "base_uri": "https://localhost:8080/"
        },
        "id": "oJ98Ktxw10gp",
        "outputId": "400152d7-443d-4dac-a723-4366ef32e2e0"
      },
      "execution_count": 1,
      "outputs": [
        {
          "output_type": "stream",
          "name": "stdout",
          "text": [
            "Sanjtha is the teacher of Bishops school\n",
            "her students are \n",
            "\n",
            "Riya\n",
            "\n",
            "Abhinaya\n",
            "\n",
            "Srinidhi\n"
          ]
        }
      ]
    },
    {
      "cell_type": "code",
      "source": [
        "# 6. create a function to give variable number of keyword arguments\n",
        "def shazam(version,*args,**kwargs):\n",
        "  print(\"We are going to see shazam {0}\\n the characters are\".format(version))\n",
        "  for char in kwargs:\n",
        "    print(\"\\n{0}. {1}\".format(kwargs[char],char))\n",
        "  print(\"The audience includes \\n\")\n",
        "  for aud in args:\n",
        "    print(\"\\n{0}\".format(aud))\n",
        "shazam(\"1\",\"medha\",\"srivani\",asher_angel = 1,freddy_freeman = 2)"
      ],
      "metadata": {
        "colab": {
          "base_uri": "https://localhost:8080/"
        },
        "id": "yqpP5CMNJftf",
        "outputId": "9dc0a996-28f5-493a-ef63-b33f202284e9"
      },
      "execution_count": 7,
      "outputs": [
        {
          "output_type": "stream",
          "name": "stdout",
          "text": [
            "We are going to see shazam 1\n",
            " the characters are\n",
            "\n",
            "1. asher_angel\n",
            "\n",
            "2. freddy_freeman\n",
            "The audience includes \n",
            "\n",
            "\n",
            "medha\n",
            "\n",
            "srivani\n"
          ]
        }
      ]
    },
    {
      "cell_type": "markdown",
      "source": [
        "7. as u saw in the 6th problem kwargs which is a variable for storing keyword arguments is called after args the variable for storing multiple positional arguments. hence be it a single or multiple arguments keyword arguments are always called after positional arguments"
      ],
      "metadata": {
        "id": "4Go46wXGV0_A"
      }
    },
    {
      "cell_type": "code",
      "source": [
        "# 8. in a given list print the even and odd elements seperately\n",
        "list1 = [1,2,3,4,5,6,7,8,9]\n",
        "for i in list1:\n",
        "  if(i%2 == 0):\n",
        "    print(\"{0} - even\".format(i))\n",
        "  else:\n",
        "    print(\"{0} - odd\".format(i))"
      ],
      "metadata": {
        "colab": {
          "base_uri": "https://localhost:8080/"
        },
        "id": "mHLH5-zVXcOL",
        "outputId": "fc9f0c4e-3214-432e-ed0b-e38a40d0ce95"
      },
      "execution_count": 9,
      "outputs": [
        {
          "output_type": "stream",
          "name": "stdout",
          "text": [
            "1 - odd\n",
            "2 - even\n",
            "3 - odd\n",
            "4 - even\n",
            "5 - odd\n",
            "6 - even\n",
            "7 - odd\n",
            "8 - even\n",
            "9 - odd\n"
          ]
        }
      ]
    },
    {
      "cell_type": "code",
      "source": [
        "# 9. to create a simple calculator with operator and the values on which the operation has to be performed to be taken as input\n",
        "def calc(op,a,b):\n",
        "  s = 0\n",
        "  if(op == \"+\"):\n",
        "    s = a+b\n",
        "    print(\"Sum : {0}\".format(s))\n",
        "  elif(op == \"-\"):\n",
        "    s = a-b\n",
        "    print(\"Sub : {0}\".format(s))\n",
        "  elif(op == \"*\"):\n",
        "    s = a*b\n",
        "    print(\"mul : {0}\".format(s))\n",
        "  elif(op == \"/\"):\n",
        "    s = a/b\n",
        "    print(\"div : {0}\".format(s))\n",
        "  elif(op == \"%\"):\n",
        "    s = a%b\n",
        "    print(\"rem : {0}\".format(s))\n",
        "  else:\n",
        "    print(\"Invalid operation. try again\")\n",
        "op = input(\"Enter the operator : \")\n",
        "a = int(input(\"Enter the first operand : \"))\n",
        "b = int(input(\"Enter the second operand : \"))\n",
        "calc(op,a,b)\n"
      ],
      "metadata": {
        "colab": {
          "base_uri": "https://localhost:8080/"
        },
        "id": "0wnQ9g6yhZsj",
        "outputId": "1d9947dc-b4f1-4b82-83a9-92e14d43ccad"
      },
      "execution_count": 3,
      "outputs": [
        {
          "output_type": "stream",
          "name": "stdout",
          "text": [
            "Enter the operator : /\n",
            "Enter the first operand : 4\n",
            "Enter the second operand : 2\n",
            "div : 2.0\n"
          ]
        }
      ]
    }
  ]
}