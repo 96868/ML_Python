{
  "nbformat": 4,
  "nbformat_minor": 0,
  "metadata": {
    "colab": {
      "provenance": [],
      "authorship_tag": "ABX9TyOazqjM6ADaEVJexgItFvGX",
      "include_colab_link": true
    },
    "kernelspec": {
      "name": "python3",
      "display_name": "Python 3"
    },
    "language_info": {
      "name": "python"
    }
  },
  "cells": [
    {
      "cell_type": "markdown",
      "metadata": {
        "id": "view-in-github",
        "colab_type": "text"
      },
      "source": [
        "<a href=\"https://colab.research.google.com/github/96868/ML_Python/blob/main/class6_%26_class_7.ipynb\" target=\"_parent\"><img src=\"https://colab.research.google.com/assets/colab-badge.svg\" alt=\"Open In Colab\"/></a>"
      ]
    },
    {
      "cell_type": "markdown",
      "source": [
        "***class 6***"
      ],
      "metadata": {
        "id": "4pUEsV_RWQ9c"
      }
    },
    {
      "cell_type": "code",
      "source": [
        "# 1. create a function using positional arguments\n",
        "def name(a,b):\n",
        "  print(\"The first name is {0} and the second name is {1}\".format(a,b))\n",
        "name(\"Sreenivasan\",\"Medha\")\n",
        "name(\"Medha\",\"Sreenivasan\")\n"
      ],
      "metadata": {
        "colab": {
          "base_uri": "https://localhost:8080/"
        },
        "id": "9JqnQcRHwOI1",
        "outputId": "41c0cbb0-adcd-4d71-cfa9-add94fb04bf6"
      },
      "execution_count": null,
      "outputs": [
        {
          "output_type": "stream",
          "name": "stdout",
          "text": [
            "The first name is Sreenivasan and the second name is Medha\n",
            "The first name is Medha and the second name is Sreenivasan\n"
          ]
        }
      ]
    },
    {
      "cell_type": "code",
      "source": [
        "# 2. create a function using keyword arguments\n",
        "def name(a,b):\n",
        "  print(\"The first name is {0} and the second name is {1}\".format(a,b))\n",
        "name(b=\"Sreenivasan\",a=\"Medha\")"
      ],
      "metadata": {
        "colab": {
          "base_uri": "https://localhost:8080/"
        },
        "id": "hGL8A7oxrJKc",
        "outputId": "020e7251-1093-4456-f069-69c702cb8f9c"
      },
      "execution_count": null,
      "outputs": [
        {
          "output_type": "stream",
          "name": "stdout",
          "text": [
            "The first name is Medha and the second name is Sreenivasan\n"
          ]
        }
      ]
    },
    {
      "cell_type": "code",
      "source": [
        "# 3. create a function using default arguments\n",
        "def name(a = \"Medha\",b = \"Sreenivasan\"):\n",
        "  print(\"The first name is {0} and the second name is {1}\".format(a,b))\n",
        "name()"
      ],
      "metadata": {
        "colab": {
          "base_uri": "https://localhost:8080/"
        },
        "id": "HQLD8B6bx-Qp",
        "outputId": "58ba828e-aaae-479f-cdef-660bc9124219"
      },
      "execution_count": null,
      "outputs": [
        {
          "output_type": "stream",
          "name": "stdout",
          "text": [
            "The first name is Medha and the second name is Sreenivasan\n"
          ]
        }
      ]
    },
    {
      "cell_type": "code",
      "source": [
        "# 4. create a function using keyword and  arguments\n",
        "def name(b,a):\n",
        "  print(\"The first name is {0} and the second name is {1}\".format(a,b))\n",
        "name(\"Sreenivasan\",a=\"Medha\")"
      ],
      "metadata": {
        "colab": {
          "base_uri": "https://localhost:8080/"
        },
        "id": "ny3oiwc7yxoi",
        "outputId": "a8839e0b-b714-4d06-fa7f-b02db8d8ec32"
      },
      "execution_count": null,
      "outputs": [
        {
          "output_type": "stream",
          "name": "stdout",
          "text": [
            "The first name is Medha and the second name is Sreenivasan\n"
          ]
        }
      ]
    },
    {
      "cell_type": "markdown",
      "source": [
        "remember first positional argument will be called then keyword argument like in the 4th problem"
      ],
      "metadata": {
        "id": "Pca6ZxVpykKm"
      }
    },
    {
      "cell_type": "code",
      "source": [
        "# 5. create a function to give a variable number of input arguments to a single variable\n",
        "def school(school,teacher,*args):\n",
        "  print(\"{0} is the teacher of {1} school\\nher students are \".format(teacher,school))\n",
        "  for stu in args:\n",
        "    print(\"\\n{0}\".format(stu))\n",
        "school(\"Bishops\",\"Sanjtha\",\"Riya\",\"Abhinaya\",\"Srinidhi\")\n"
      ],
      "metadata": {
        "colab": {
          "base_uri": "https://localhost:8080/"
        },
        "id": "oJ98Ktxw10gp",
        "outputId": "400152d7-443d-4dac-a723-4366ef32e2e0"
      },
      "execution_count": null,
      "outputs": [
        {
          "output_type": "stream",
          "name": "stdout",
          "text": [
            "Sanjtha is the teacher of Bishops school\n",
            "her students are \n",
            "\n",
            "Riya\n",
            "\n",
            "Abhinaya\n",
            "\n",
            "Srinidhi\n"
          ]
        }
      ]
    },
    {
      "cell_type": "code",
      "source": [
        "# 6. create a function to give variable number of keyword arguments\n",
        "def shazam(version,*args,**kwargs):\n",
        "  print(\"We are going to see shazam {0}\\n the characters are\".format(version))\n",
        "  for char in kwargs:\n",
        "    print(\"\\n{0}. {1}\".format(kwargs[char],char))\n",
        "  print(\"The audience includes \\n\")\n",
        "  for aud in args:\n",
        "    print(\"\\n{0}\".format(aud))\n",
        "shazam(\"1\",\"medha\",\"srivani\",asher_angel = 1,freddy_freeman = 2)"
      ],
      "metadata": {
        "colab": {
          "base_uri": "https://localhost:8080/"
        },
        "id": "yqpP5CMNJftf",
        "outputId": "9dc0a996-28f5-493a-ef63-b33f202284e9"
      },
      "execution_count": null,
      "outputs": [
        {
          "output_type": "stream",
          "name": "stdout",
          "text": [
            "We are going to see shazam 1\n",
            " the characters are\n",
            "\n",
            "1. asher_angel\n",
            "\n",
            "2. freddy_freeman\n",
            "The audience includes \n",
            "\n",
            "\n",
            "medha\n",
            "\n",
            "srivani\n"
          ]
        }
      ]
    },
    {
      "cell_type": "markdown",
      "source": [
        "7. as u saw in the 6th problem kwargs which is a variable for storing keyword arguments is called after args the variable for storing multiple positional arguments. hence be it a single or multiple arguments keyword arguments are always called after positional arguments"
      ],
      "metadata": {
        "id": "4Go46wXGV0_A"
      }
    },
    {
      "cell_type": "code",
      "source": [
        "# 8. in a given list print the even and odd elements seperately\n",
        "list1 = [1,2,3,4,5,6,7,8,9]\n",
        "for i in list1:\n",
        "  if(i%2 == 0):\n",
        "    print(\"{0} - even\".format(i))\n",
        "  else:\n",
        "    print(\"{0} - odd\".format(i))"
      ],
      "metadata": {
        "colab": {
          "base_uri": "https://localhost:8080/"
        },
        "id": "mHLH5-zVXcOL",
        "outputId": "7263fbe7-02be-4992-808a-cbdbc5a2b7da"
      },
      "execution_count": 2,
      "outputs": [
        {
          "output_type": "stream",
          "name": "stdout",
          "text": [
            "1 - odd\n",
            "2 - even\n",
            "3 - odd\n",
            "4 - even\n",
            "5 - odd\n",
            "6 - even\n",
            "7 - odd\n",
            "8 - even\n",
            "9 - odd\n"
          ]
        }
      ]
    },
    {
      "cell_type": "code",
      "source": [
        "# 9. to create a simple calculator with operator and the values on which the operation has to be performed to be taken as input\n",
        "def calc(op,a,b):\n",
        "  s = 0\n",
        "  if(op == \"+\"):\n",
        "    s = a+b\n",
        "    print(\"Sum : {0}\".format(s))\n",
        "  elif(op == \"-\"):\n",
        "    s = a-b\n",
        "    print(\"Sub : {0}\".format(s))\n",
        "  elif(op == \"*\"):\n",
        "    s = a*b\n",
        "    print(\"mul : {0}\".format(s))\n",
        "  elif(op == \"/\"):\n",
        "    s = a/b\n",
        "    print(\"div : {0}\".format(s))\n",
        "  elif(op == \"%\"):\n",
        "    s = a%b\n",
        "    print(\"rem : {0}\".format(s))\n",
        "  else:\n",
        "    print(\"Invalid operation. try again\")\n",
        "op = input(\"Enter the operator : \")\n",
        "a = int(input(\"Enter the first operand : \"))\n",
        "b = int(input(\"Enter the second operand : \"))\n",
        "calc(op,a,b)\n"
      ],
      "metadata": {
        "colab": {
          "base_uri": "https://localhost:8080/"
        },
        "id": "0wnQ9g6yhZsj",
        "outputId": "1d9947dc-b4f1-4b82-83a9-92e14d43ccad"
      },
      "execution_count": null,
      "outputs": [
        {
          "output_type": "stream",
          "name": "stdout",
          "text": [
            "Enter the operator : /\n",
            "Enter the first operand : 4\n",
            "Enter the second operand : 2\n",
            "div : 2.0\n"
          ]
        }
      ]
    },
    {
      "cell_type": "markdown",
      "source": [
        "***class 7***"
      ],
      "metadata": {
        "id": "cPcOn9dZ692V"
      }
    },
    {
      "cell_type": "code",
      "source": [
        "# 1. to create lists seperately for even and odd numbers in the normal way\n",
        "even_list=[]\n",
        "odd_list=[]\n",
        "for value in list1:\n",
        "  if(value%2 == 0):\n",
        "    even_list.append(value)\n",
        "  else:\n",
        "    odd_list.append(value)\n",
        "print(even_list)\n",
        "print(odd_list)\n"
      ],
      "metadata": {
        "colab": {
          "base_uri": "https://localhost:8080/"
        },
        "id": "0_FGWfCY7EFh",
        "outputId": "9752cdf9-23f1-4deb-9eb4-d9c000ea59c2"
      },
      "execution_count": null,
      "outputs": [
        {
          "output_type": "stream",
          "name": "stdout",
          "text": [
            "[2, 4, 6, 8]\n",
            "[1, 3, 5, 7, 9]\n"
          ]
        }
      ]
    },
    {
      "cell_type": "code",
      "source": [
        "# 2. to create lists seperately for even and odd numbers using list comprehension\n",
        "evenlist = [x for x in list1 if x%2 == 0]\n",
        "oddlist = [x for x in list1 if x%2 != 0]\n",
        "print(evenlist)\n",
        "print(oddlist)"
      ],
      "metadata": {
        "colab": {
          "base_uri": "https://localhost:8080/"
        },
        "id": "yUycpL6TpSXH",
        "outputId": "93e38f51-d2c5-4365-f890-fbad71453592"
      },
      "execution_count": null,
      "outputs": [
        {
          "output_type": "stream",
          "name": "stdout",
          "text": [
            "[2, 4, 6, 8]\n",
            "[1, 3, 5, 7, 9]\n"
          ]
        }
      ]
    },
    {
      "cell_type": "code",
      "source": [
        "# 3. to print the list in ascending order\n",
        "list2 = [2,1,6,7,5]\n",
        "list2.sort()\n",
        "print(list2)"
      ],
      "metadata": {
        "colab": {
          "base_uri": "https://localhost:8080/"
        },
        "id": "OGPl3L_L3xBt",
        "outputId": "983404d7-88b2-4be6-d8f4-1ecfe6ad4bdf"
      },
      "execution_count": null,
      "outputs": [
        {
          "output_type": "stream",
          "name": "stdout",
          "text": [
            "[1, 2, 5, 6, 7]\n"
          ]
        }
      ]
    },
    {
      "cell_type": "code",
      "source": [
        "# 4. to print the list in descending order\n",
        "list2.sort(reverse = True)\n",
        "print(list2)"
      ],
      "metadata": {
        "colab": {
          "base_uri": "https://localhost:8080/"
        },
        "id": "Nvi_ilBC77rc",
        "outputId": "a6bf4ca1-89a9-4780-9d16-4b21eb514dfb"
      },
      "execution_count": null,
      "outputs": [
        {
          "output_type": "stream",
          "name": "stdout",
          "text": [
            "[7, 6, 5, 2, 1]\n"
          ]
        }
      ]
    },
    {
      "cell_type": "code",
      "source": [
        "# 5. to create a dictionary for a list of numbers and their squares in the normal way\n",
        "mydic = {}\n",
        "for value in list1:\n",
        "  mydic[value] = value**2\n",
        "print(mydic)"
      ],
      "metadata": {
        "colab": {
          "base_uri": "https://localhost:8080/"
        },
        "id": "blHIxP9L9irH",
        "outputId": "b229b02e-99eb-4a93-ea8c-926f00a6b9ff"
      },
      "execution_count": null,
      "outputs": [
        {
          "output_type": "stream",
          "name": "stdout",
          "text": [
            "{1: 1, 2: 4, 3: 9, 4: 16, 5: 25, 6: 36, 7: 49, 8: 64, 9: 81}\n"
          ]
        }
      ]
    },
    {
      "cell_type": "code",
      "source": [
        "# 6. to create a dictionary for a list of numbers and their squares using dictionary comprehension\n",
        "mydic1 = {x:x**2 for x in list1 }\n",
        "print(mydic1)"
      ],
      "metadata": {
        "colab": {
          "base_uri": "https://localhost:8080/"
        },
        "id": "Q5Ftn9OdCLBg",
        "outputId": "acda4ccb-e5d7-4ec7-8e85-22696e4c0e6c"
      },
      "execution_count": null,
      "outputs": [
        {
          "output_type": "stream",
          "name": "stdout",
          "text": [
            "{1: 1, 2: 4, 3: 9, 4: 16, 5: 25, 6: 36, 7: 49, 8: 64, 9: 81}\n"
          ]
        }
      ]
    },
    {
      "cell_type": "code",
      "source": [
        "# 7. to create a set which stores values divisible by 3 in the normal way\n",
        "div_set = set()\n",
        "for value in list1:\n",
        "  if(value % 3 == 0):\n",
        "    div_set.add(value)\n",
        "print(div_set)"
      ],
      "metadata": {
        "colab": {
          "base_uri": "https://localhost:8080/"
        },
        "id": "bk7ydlH-Nquy",
        "outputId": "4144e97e-43a6-4512-f55c-7e3d8a71b569"
      },
      "execution_count": null,
      "outputs": [
        {
          "output_type": "stream",
          "name": "stdout",
          "text": [
            "{9, 3, 6}\n"
          ]
        }
      ]
    },
    {
      "cell_type": "code",
      "source": [
        "# 8. to create a set which stores values divisible by 3 using set comprehension\n",
        "div_set1 = set(x for x in list1 if x%3 == 0)\n",
        "print(div_set1)"
      ],
      "metadata": {
        "colab": {
          "base_uri": "https://localhost:8080/"
        },
        "id": "FK6fIjUCPNKn",
        "outputId": "1ab8d7b7-3ce2-467b-8d1d-cee0d3a3ee80"
      },
      "execution_count": null,
      "outputs": [
        {
          "output_type": "stream",
          "name": "stdout",
          "text": [
            "{9, 3, 6}\n"
          ]
        }
      ]
    },
    {
      "cell_type": "code",
      "source": [
        "# 9. to create a list using if else condition for divisibility by 4 using the normal way\n",
        "div4_lst = []\n",
        "for value in list1:\n",
        "  if(value % 4 == 0):\n",
        "    div4_lst.append(value)\n",
        "  else:\n",
        "    div4_lst.append(\"not divisible\")\n",
        "print(div4_lst)"
      ],
      "metadata": {
        "colab": {
          "base_uri": "https://localhost:8080/"
        },
        "id": "G2M0n78F54Ge",
        "outputId": "42d08f9d-8bfa-4866-a7f4-84fcbd24afb1"
      },
      "execution_count": 18,
      "outputs": [
        {
          "output_type": "stream",
          "name": "stdout",
          "text": [
            "['not divisible', 'not divisible', 'not divisible', 4, 'not divisible', 'not divisible', 'not divisible', 8, 'not divisible']\n"
          ]
        }
      ]
    },
    {
      "cell_type": "code",
      "source": [
        "# 10. to create if else condition for divisibility by 4 using list comprehension\n",
        "lst = [x  if x%4==0  else \"not divisible\" for x in list1]\n",
        "print(lst)"
      ],
      "metadata": {
        "colab": {
          "base_uri": "https://localhost:8080/"
        },
        "id": "KCOINDRf_YUl",
        "outputId": "5ef7da46-97c0-436d-db88-44966d2a21f4"
      },
      "execution_count": 10,
      "outputs": [
        {
          "output_type": "stream",
          "name": "stdout",
          "text": [
            "['not divisible', 'not divisible', 'not divisible', 4, 'not divisible', 'not divisible', 'not divisible', 8, 'not divisible']\n"
          ]
        }
      ]
    },
    {
      "cell_type": "code",
      "source": [
        "# 11. to create if else condition for divisibility by 4 using set comprehension\n",
        "set1 = set()\n",
        "set1 = {x if x%4==0 else \"not divisible\" for x in list1}\n",
        "print(set1)"
      ],
      "metadata": {
        "colab": {
          "base_uri": "https://localhost:8080/"
        },
        "id": "Tl3gPN3TCMFB",
        "outputId": "80701f6d-8b2f-4fcd-cd26-c66f15c7eaa2"
      },
      "execution_count": 13,
      "outputs": [
        {
          "output_type": "stream",
          "name": "stdout",
          "text": [
            "{8, 4, 'not divisible'}\n"
          ]
        }
      ]
    },
    {
      "cell_type": "code",
      "source": [
        " # 12. to create a set using if else condition for divisibility by 4 using the normal way\n",
        " set2 = set()\n",
        " for x in list1:\n",
        "  if(x%4 == 0):\n",
        "    set2.add(x)\n",
        "  else:\n",
        "    set2.add(\"not divisible\")\n",
        " print(set2)"
      ],
      "metadata": {
        "colab": {
          "base_uri": "https://localhost:8080/"
        },
        "id": "0Z6Qdy9bE6_d",
        "outputId": "2ca8e512-80bd-42ce-a056-0b0026a7e5e4"
      },
      "execution_count": 19,
      "outputs": [
        {
          "output_type": "stream",
          "name": "stdout",
          "text": [
            "{8, 4, 'not divisible'}\n"
          ]
        }
      ]
    },
    {
      "cell_type": "code",
      "source": [
        "# 13. to take the no of elements as the input and create a list with numbers from 1 to n in the normal way\n",
        "lst3 = []\n",
        "n = int(input(\"Enter the number of elements: \"))\n",
        "for i in range(n):\n",
        "  lst3.append(i+1)\n",
        "print(lst3)"
      ],
      "metadata": {
        "colab": {
          "base_uri": "https://localhost:8080/"
        },
        "id": "5SK1Q1lXM83F",
        "outputId": "c072e99e-6f17-43ad-c191-d59836dc8d1a"
      },
      "execution_count": 22,
      "outputs": [
        {
          "output_type": "stream",
          "name": "stdout",
          "text": [
            "Enter the number of elements: 4\n",
            "[1, 2, 3, 4]\n"
          ]
        }
      ]
    },
    {
      "cell_type": "code",
      "source": [
        "# 14. to take the no of elements as the input and create a set with numbers from 1 to n in the normal way\n",
        "set3 = set()\n",
        "n1 = int(input(\"Enter the number of elements : \"))\n",
        "for i in range(n1):\n",
        "  set3.add(i+1)\n",
        "print(set3)"
      ],
      "metadata": {
        "colab": {
          "base_uri": "https://localhost:8080/"
        },
        "id": "9rnPo-bcWFNu",
        "outputId": "a1027c40-8c55-4c6e-a2e8-88e5d40d4167"
      },
      "execution_count": 23,
      "outputs": [
        {
          "output_type": "stream",
          "name": "stdout",
          "text": [
            "Enter the number of elements : 5\n",
            "{1, 2, 3, 4, 5}\n"
          ]
        }
      ]
    },
    {
      "cell_type": "code",
      "source": [
        "# 15. to take the no of elements as the input and create a list with numbers from 1 to n using list comprehension\n",
        "n2 = int(input(\"Enter the number of elements : \"))\n",
        "lst4 = [x+1 for x in range(n2)]\n",
        "print(lst4)"
      ],
      "metadata": {
        "colab": {
          "base_uri": "https://localhost:8080/"
        },
        "id": "q6Iph4PbbX_R",
        "outputId": "917ed015-caa1-447d-d48c-c9910427d622"
      },
      "execution_count": 25,
      "outputs": [
        {
          "output_type": "stream",
          "name": "stdout",
          "text": [
            "Enter the number of elements : 5\n",
            "[1, 2, 3, 4, 5]\n"
          ]
        }
      ]
    },
    {
      "cell_type": "code",
      "source": [
        "# 16. to take the no of elements as the input and create a set with numbers from 1 to n using set comprehension\n",
        "set4 = set()\n",
        "n3 = int(input(\"Enter the number of elements : \"))\n",
        "set4 = {x+1 for x in range(n3)}\n",
        "print(set4)"
      ],
      "metadata": {
        "colab": {
          "base_uri": "https://localhost:8080/"
        },
        "id": "9F93qgD0b-G0",
        "outputId": "39a2f918-bc0b-4d75-fa4b-73557f63431a"
      },
      "execution_count": 26,
      "outputs": [
        {
          "output_type": "stream",
          "name": "stdout",
          "text": [
            "Enter the number of elements : 5\n",
            "{1, 2, 3, 4, 5}\n"
          ]
        }
      ]
    }
  ]
}