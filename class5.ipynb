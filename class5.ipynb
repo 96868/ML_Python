{
  "nbformat": 4,
  "nbformat_minor": 0,
  "metadata": {
    "colab": {
      "provenance": [],
      "authorship_tag": "ABX9TyOiUEvi9toi+6xvuYiDzC+t",
      "include_colab_link": true
    },
    "kernelspec": {
      "name": "python3",
      "display_name": "Python 3"
    },
    "language_info": {
      "name": "python"
    }
  },
  "cells": [
    {
      "cell_type": "markdown",
      "metadata": {
        "id": "view-in-github",
        "colab_type": "text"
      },
      "source": [
        "<a href=\"https://colab.research.google.com/github/96868/ML_Python/blob/main/class5.ipynb\" target=\"_parent\"><img src=\"https://colab.research.google.com/assets/colab-badge.svg\" alt=\"Open In Colab\"/></a>"
      ]
    },
    {
      "cell_type": "markdown",
      "source": [
        "***class 5***"
      ],
      "metadata": {
        "id": "4pUEsV_RWQ9c"
      }
    },
    {
      "cell_type": "code",
      "source": [
        "# 2. to write text into the text file\n",
        "myfile = open(\"Python.txt\",'w')\n",
        "myfile.write(\"Hello my instagram account is medha_svs\")\n",
        "myfile.close()"
      ],
      "metadata": {
        "id": "5iDXzSugTs0H"
      },
      "execution_count": 4,
      "outputs": []
    },
    {
      "cell_type": "code",
      "source": [
        "# 1. to read the text written to a text file\n",
        "myfile = open(\"Python.txt\",'r')\n",
        "print(myfile.read())\n",
        "myfile.close()"
      ],
      "metadata": {
        "colab": {
          "base_uri": "https://localhost:8080/"
        },
        "id": "3audn7xIS3I5",
        "outputId": "84d7ce02-41b5-4d03-9a1f-e6fda0ec46aa"
      },
      "execution_count": 5,
      "outputs": [
        {
          "output_type": "stream",
          "name": "stdout",
          "text": [
            "Hello my instagram account is medha_svs\n"
          ]
        }
      ]
    },
    {
      "cell_type": "code",
      "source": [
        "# 3. to append text into the text file\n",
        "myfile = open(\"Python.txt\",'a')\n",
        "myfile.write(\"\\n la la la la la\")\n",
        "myfile.close()"
      ],
      "metadata": {
        "id": "76-PhLVQVljA"
      },
      "execution_count": 6,
      "outputs": []
    },
    {
      "cell_type": "code",
      "source": [
        "myfile = open(\"Python.txt\",'r')\n",
        "print(myfile.read())\n",
        "myfile.close()"
      ],
      "metadata": {
        "colab": {
          "base_uri": "https://localhost:8080/"
        },
        "id": "LMd8K2bLWCN6",
        "outputId": "58089ef2-08f5-44bb-bd9d-5690ec60496c"
      },
      "execution_count": 7,
      "outputs": [
        {
          "output_type": "stream",
          "name": "stdout",
          "text": [
            "Hello my instagram account is medha_svs\n",
            " la la la la la\n"
          ]
        }
      ]
    },
    {
      "cell_type": "code",
      "source": [
        "# 4. to check if a number is even or odd\n",
        "data = int(input(\"Enter a number even or odd \"))\n",
        "if(data % 2 == 0):\n",
        "  print(\"{0} is an even number\".format(data))\n",
        "else:\n",
        "  print(\"{0} is an odd number\".format(data))"
      ],
      "metadata": {
        "colab": {
          "base_uri": "https://localhost:8080/"
        },
        "id": "-O7j8Em1WZNF",
        "outputId": "b62aa477-bae8-4da5-e944-216e15baf477"
      },
      "execution_count": null,
      "outputs": [
        {
          "output_type": "stream",
          "name": "stdout",
          "text": [
            "Enter a number even or odd 6\n",
            "6 is an even number\n"
          ]
        }
      ]
    },
    {
      "cell_type": "code",
      "source": [
        "# 5. to check whether the student passed or failed (consider passing mark as 35)\n",
        "marks = int(input(\"Enter the marks \"))\n",
        "if(marks >= 35):\n",
        "  print(\"you got {0} which is >= 35 . hence u passed \".format(marks))\n",
        "else:\n",
        "  print(\"you got {0} which is < 35 . hence u failed \".format(marks))"
      ],
      "metadata": {
        "colab": {
          "base_uri": "https://localhost:8080/"
        },
        "id": "nmHTFBkJa9Hs",
        "outputId": "eadeb83a-afd7-4a25-99f4-ccaaa84c066a"
      },
      "execution_count": null,
      "outputs": [
        {
          "output_type": "stream",
          "name": "stdout",
          "text": [
            "Enter the marks 32\n",
            "you got 32 which is < 35 . hence u failed \n"
          ]
        }
      ]
    },
    {
      "cell_type": "code",
      "source": [
        "# 6. to check if a number is greater or lesser or equal to the other number\n",
        "a = int(input(\"Enter the 1st number : \"))\n",
        "b = int(input(\"Enter the 2nd number : \"))\n",
        "if(a > b):\n",
        "  print(\"{0} is greater\".format(a))\n",
        "elif(b > a):\n",
        "  print(\"{0} is greater\".format(b))\n",
        "else:\n",
        "  print(\"both are equal\")"
      ],
      "metadata": {
        "colab": {
          "base_uri": "https://localhost:8080/"
        },
        "id": "0LeHf_efgKyK",
        "outputId": "630446ea-78fa-47b2-a8b0-ff7bac77fd2c"
      },
      "execution_count": null,
      "outputs": [
        {
          "output_type": "stream",
          "name": "stdout",
          "text": [
            "Enter the 1st number : 3\n",
            "Enter the 2nd number : 4\n",
            "4 is greater\n"
          ]
        }
      ]
    },
    {
      "cell_type": "code",
      "source": [
        "# 7. to overwrite the text into the text file and read the text file\n",
        "myfile = open(\"Python.txt\",'r+')\n",
        "myfile.write(\" I want to watch shazam the fury of gods \")\n",
        "print(myfile.read())\n",
        "myfile.close()"
      ],
      "metadata": {
        "colab": {
          "base_uri": "https://localhost:8080/"
        },
        "id": "OPgKOCyDmyJA",
        "outputId": "574de4d1-ba49-4193-9fa2-e80358f11a49"
      },
      "execution_count": null,
      "outputs": [
        {
          "output_type": "stream",
          "name": "stdout",
          "text": [
            "la la la la la\n",
            " la la la la la\n"
          ]
        }
      ]
    },
    {
      "cell_type": "code",
      "source": [
        "# 8. to add text into the text file without overwriting it and read the text file\n",
        "myfile = open(\"Python.txt\",'a+')\n",
        "myfile.write(\"\\n I want to get o grade this time\")\n",
        "myfile.seek(0)\n",
        "print(myfile.read())\n",
        "myfile.close()"
      ],
      "metadata": {
        "colab": {
          "base_uri": "https://localhost:8080/"
        },
        "id": "A0EzpYRHZXhL",
        "outputId": "395e65d4-ca5c-49d5-890a-c73f26b61d2e"
      },
      "execution_count": 8,
      "outputs": [
        {
          "output_type": "stream",
          "name": "stdout",
          "text": [
            "Hello my instagram account is medha_svs\n",
            " la la la la la\n",
            " I want to get o grade this time\n"
          ]
        }
      ]
    }
  ]
}