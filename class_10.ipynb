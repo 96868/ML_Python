{
  "nbformat": 4,
  "nbformat_minor": 0,
  "metadata": {
    "colab": {
      "provenance": [],
      "authorship_tag": "ABX9TyPSHKOnsuNXcMnQ3IXgvjg5",
      "include_colab_link": true
    },
    "kernelspec": {
      "name": "python3",
      "display_name": "Python 3"
    },
    "language_info": {
      "name": "python"
    }
  },
  "cells": [
    {
      "cell_type": "markdown",
      "metadata": {
        "id": "view-in-github",
        "colab_type": "text"
      },
      "source": [
        "<a href=\"https://colab.research.google.com/github/96868/ML_Python/blob/main/class_10.ipynb\" target=\"_parent\"><img src=\"https://colab.research.google.com/assets/colab-badge.svg\" alt=\"Open In Colab\"/></a>"
      ]
    },
    {
      "cell_type": "code",
      "execution_count": null,
      "metadata": {
        "colab": {
          "base_uri": "https://localhost:8080/"
        },
        "id": "Tz8M4GXX73ee",
        "outputId": "463b29cc-c6d0-4c11-c95e-19313a485103"
      },
      "outputs": [
        {
          "output_type": "stream",
          "name": "stdout",
          "text": [
            "black\n",
            "Infesta team\n",
            "black\n",
            "Infesta team\n"
          ]
        }
      ],
      "source": [
        "# 1. create a class and objects where all the objects have the same attributes as the class\n",
        "class person:\n",
        "  shirt_colour = \"black\"\n",
        "  name = \"Infesta team\"\n",
        "ob1 = person()\n",
        "ob2 = person()\n",
        "print(ob1.shirt_colour)\n",
        "print(ob1.name)\n",
        "print(ob2.shirt_colour)\n",
        "print(ob2.name)"
      ]
    },
    {
      "cell_type": "code",
      "source": [
        "''' 2. create a class and objects where all the objects have the same attributes as the class except for one\n",
        "attribute of the class which will vary with very object'''\n",
        "class comp:\n",
        "  cost = \"Rs. 75,000.00\"\n",
        "  name = \"hp\"\n",
        "  def __init__ (self,core):\n",
        "    self.core = core\n",
        "o1 = comp(\"i5\")\n",
        "o2 = comp(\"i7\")\n",
        "print(o1.cost)\n",
        "print(o1.name)\n",
        "print(o1.core)\n",
        "print(o2.cost)\n",
        "print(o2.name)\n",
        "print(o2.core)"
      ],
      "metadata": {
        "colab": {
          "base_uri": "https://localhost:8080/"
        },
        "id": "Iz-0Q7_lZvvL",
        "outputId": "c94b730e-76c9-4abe-d187-86afd505b514"
      },
      "execution_count": null,
      "outputs": [
        {
          "output_type": "stream",
          "name": "stdout",
          "text": [
            "Rs. 75,000.00\n",
            "hp\n",
            "i5\n",
            "Rs. 75,000.00\n",
            "hp\n",
            "i7\n"
          ]
        }
      ]
    },
    {
      "cell_type": "markdown",
      "source": [
        "3. Inheritance - child class created within parent class . child class inherits the property of the parent class and extra attributes can be added to it which will distinguish it from the parent class."
      ],
      "metadata": {
        "id": "Ft11kAS6iy92"
      }
    },
    {
      "cell_type": "code",
      "source": [
        "# 4. a program on inheritance\n",
        "class school:\n",
        "  course = \"EAC\"\n",
        "  def __init__(self,clas):\n",
        "    self.clas = clas\n",
        "class EAC(school):\n",
        "  def __init__(self,clas,name):\n",
        "    self.name = name\n",
        "    school .__init__(self,clas)\n",
        "  def a(self):\n",
        "    print(\"Child is inheriting the property of parent class\")"
      ],
      "metadata": {
        "id": "f3gx7j8xhkJA"
      },
      "execution_count": 2,
      "outputs": []
    },
    {
      "cell_type": "code",
      "source": [
        "ob1 = EAC(\"I\",\"Medha\")\n",
        "ob2 = school(\"A\")\n",
        "print(ob1.course)\n",
        "print(ob1.name)\n",
        "ob1.a()"
      ],
      "metadata": {
        "colab": {
          "base_uri": "https://localhost:8080/"
        },
        "id": "v0A2h7ZPuHwV",
        "outputId": "dd502a3e-4161-4e60-8f76-3c6f56ac52fa"
      },
      "execution_count": 3,
      "outputs": [
        {
          "output_type": "stream",
          "name": "stdout",
          "text": [
            "EAC\n",
            "Medha\n",
            "Child is inheriting the property of parent class\n"
          ]
        }
      ]
    },
    {
      "cell_type": "code",
      "source": [
        "# 5. a program on encapsulation\n",
        "class Admin:\n",
        "  def __init__(a,usname,psswd):\n",
        "    a.usname = usname\n",
        "    a. __psswd = psswd\n",
        "  def secret(a):\n",
        "    print(a. __psswd)"
      ],
      "metadata": {
        "id": "Ov0sYGok2Lu1"
      },
      "execution_count": 7,
      "outputs": []
    },
    {
      "cell_type": "code",
      "source": [
        "ob1 = Admin(\"Admin\",\"1982\")\n",
        "print(ob1.usname)\n",
        "ob1.secret()"
      ],
      "metadata": {
        "colab": {
          "base_uri": "https://localhost:8080/"
        },
        "id": "-O8aFeaVAHYY",
        "outputId": "00a9b834-8eec-44db-b48f-abccaeec0800"
      },
      "execution_count": 8,
      "outputs": [
        {
          "output_type": "stream",
          "name": "stdout",
          "text": [
            "Admin\n",
            "1982\n"
          ]
        }
      ]
    },
    {
      "cell_type": "code",
      "source": [
        "# 6. a program on polymorphism\n",
        "class Bird:\n",
        "  def intro(self):\n",
        "    print(\"there are different types of birds\")\n",
        "  def fly(self):\n",
        "    print(\"Most of the birds cannot fly\")\n",
        "class Parrot(Bird):\n",
        "  def fly(self):\n",
        "    print(\"Parrots can fly\")\n",
        "class Penguin(Bird):\n",
        "  def fly(self):\n",
        "    print(\"Parrots cannot fly\")"
      ],
      "metadata": {
        "id": "-oWgfwqhEDos"
      },
      "execution_count": 9,
      "outputs": []
    },
    {
      "cell_type": "code",
      "source": [
        "ob1 = Bird()\n",
        "ob2 = Parrot()\n",
        "ob3 = Penguin()\n",
        "ob1.intro()\n",
        "ob2.intro()\n",
        "ob3.intro()\n",
        "ob1.fly()\n",
        "ob2.fly()\n",
        "ob3.fly()\n"
      ],
      "metadata": {
        "colab": {
          "base_uri": "https://localhost:8080/"
        },
        "id": "qiaFtjVWIpZu",
        "outputId": "ecce86ce-4ffb-41f2-82ea-ee252574e2d4"
      },
      "execution_count": 15,
      "outputs": [
        {
          "output_type": "stream",
          "name": "stdout",
          "text": [
            "there are different types of birds\n",
            "there are different types of birds\n",
            "there are different types of birds\n",
            "Most of the birds cannot fly\n",
            "Parrots can fly\n",
            "Parrots cannot fly\n"
          ]
        }
      ]
    }
  ]
}