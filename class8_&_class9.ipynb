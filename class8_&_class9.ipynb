{
  "nbformat": 4,
  "nbformat_minor": 0,
  "metadata": {
    "colab": {
      "provenance": [],
      "authorship_tag": "ABX9TyOLw5H0v9OnfQnTa6+6Fkhd",
      "include_colab_link": true
    },
    "kernelspec": {
      "name": "python3",
      "display_name": "Python 3"
    },
    "language_info": {
      "name": "python"
    }
  },
  "cells": [
    {
      "cell_type": "markdown",
      "metadata": {
        "id": "view-in-github",
        "colab_type": "text"
      },
      "source": [
        "<a href=\"https://colab.research.google.com/github/96868/ML_Python/blob/main/class8_%26_class9.ipynb\" target=\"_parent\"><img src=\"https://colab.research.google.com/assets/colab-badge.svg\" alt=\"Open In Colab\"/></a>"
      ]
    },
    {
      "cell_type": "markdown",
      "source": [
        "***class 8***"
      ],
      "metadata": {
        "id": "4pUEsV_RWQ9c"
      }
    },
    {
      "cell_type": "code",
      "source": [
        "# 1. to print 3 expressions using a generator and next keyword\n",
        "def mygen(n):\n",
        "  yield n+6\n",
        "  yield n+5\n",
        "  yield n**2\n",
        "a = mygen(5)\n",
        "print(next(a))\n",
        "print(next(a))\n",
        "print(next(a))"
      ],
      "metadata": {
        "colab": {
          "base_uri": "https://localhost:8080/"
        },
        "id": "r3qlIc0k8UoG",
        "outputId": "1cae956d-cb03-452e-fa6b-8ead02f41abc"
      },
      "execution_count": null,
      "outputs": [
        {
          "output_type": "stream",
          "name": "stdout",
          "text": [
            "11\n",
            "10\n",
            "25\n"
          ]
        }
      ]
    },
    {
      "cell_type": "code",
      "source": [
        "# 2. to print 3 expressions using a generator and for loop\n",
        "def mygen1(n1):\n",
        "  yield n1+6\n",
        "  yield n1+5\n",
        "  yield n1**2\n",
        "for x in mygen(5):\n",
        "  print(x)\n"
      ],
      "metadata": {
        "colab": {
          "base_uri": "https://localhost:8080/"
        },
        "id": "J4LxaiscFIsW",
        "outputId": "ea324b12-981d-4aae-8f72-941b408e3ae9"
      },
      "execution_count": null,
      "outputs": [
        {
          "output_type": "stream",
          "name": "stdout",
          "text": [
            "11\n",
            "10\n",
            "25\n"
          ]
        }
      ]
    },
    {
      "cell_type": "markdown",
      "source": [
        "3. generator - used to generate values of different expressions using the yield keyword and next keyword or yield keyword and for loop as shown in the previous two problems"
      ],
      "metadata": {
        "id": "DxTZXyKOICOW"
      }
    },
    {
      "cell_type": "code",
      "source": [
        "# 4. name error example\n",
        "print(abc)"
      ],
      "metadata": {
        "colab": {
          "base_uri": "https://localhost:8080/",
          "height": 183
        },
        "id": "6YvyircmgTz9",
        "outputId": "8d83293c-3bf6-4a42-af73-479e120c117a"
      },
      "execution_count": null,
      "outputs": [
        {
          "output_type": "error",
          "ename": "NameError",
          "evalue": "ignored",
          "traceback": [
            "\u001b[0;31m---------------------------------------------------------------------------\u001b[0m",
            "\u001b[0;31mNameError\u001b[0m                                 Traceback (most recent call last)",
            "\u001b[0;32m<ipython-input-8-214e92b4f0b4>\u001b[0m in \u001b[0;36m<cell line: 2>\u001b[0;34m()\u001b[0m\n\u001b[1;32m      1\u001b[0m \u001b[0;31m# 4. name error example\u001b[0m\u001b[0;34m\u001b[0m\u001b[0;34m\u001b[0m\u001b[0m\n\u001b[0;32m----> 2\u001b[0;31m \u001b[0mprint\u001b[0m\u001b[0;34m(\u001b[0m\u001b[0mabc\u001b[0m\u001b[0;34m)\u001b[0m\u001b[0;34m\u001b[0m\u001b[0;34m\u001b[0m\u001b[0m\n\u001b[0m",
            "\u001b[0;31mNameError\u001b[0m: name 'abc' is not defined"
          ]
        }
      ]
    },
    {
      "cell_type": "code",
      "source": [
        "# 5. zero division error example\n",
        "print(2/0)"
      ],
      "metadata": {
        "colab": {
          "base_uri": "https://localhost:8080/",
          "height": 183
        },
        "id": "z4juUxfG1-pv",
        "outputId": "8d5cb676-6a96-492e-8940-e22a759c0758"
      },
      "execution_count": null,
      "outputs": [
        {
          "output_type": "error",
          "ename": "ZeroDivisionError",
          "evalue": "ignored",
          "traceback": [
            "\u001b[0;31m---------------------------------------------------------------------------\u001b[0m",
            "\u001b[0;31mZeroDivisionError\u001b[0m                         Traceback (most recent call last)",
            "\u001b[0;32m<ipython-input-9-e97966e53438>\u001b[0m in \u001b[0;36m<cell line: 2>\u001b[0;34m()\u001b[0m\n\u001b[1;32m      1\u001b[0m \u001b[0;31m# 5. zero division error example\u001b[0m\u001b[0;34m\u001b[0m\u001b[0;34m\u001b[0m\u001b[0m\n\u001b[0;32m----> 2\u001b[0;31m \u001b[0mprint\u001b[0m\u001b[0;34m(\u001b[0m\u001b[0;36m2\u001b[0m\u001b[0;34m/\u001b[0m\u001b[0;36m0\u001b[0m\u001b[0;34m)\u001b[0m\u001b[0;34m\u001b[0m\u001b[0;34m\u001b[0m\u001b[0m\n\u001b[0m",
            "\u001b[0;31mZeroDivisionError\u001b[0m: division by zero"
          ]
        }
      ]
    },
    {
      "cell_type": "code",
      "source": [
        "# 6. create an exception handling program for the 4th program\n",
        "try:\n",
        "  print(abc)\n",
        "except:\n",
        "  print(\"A name error occured\")"
      ],
      "metadata": {
        "colab": {
          "base_uri": "https://localhost:8080/"
        },
        "id": "QuN805C72KKL",
        "outputId": "3fa2089b-2eb4-44a7-c32b-29ee14d7e0cd"
      },
      "execution_count": null,
      "outputs": [
        {
          "output_type": "stream",
          "name": "stdout",
          "text": [
            "A name error occured\n"
          ]
        }
      ]
    },
    {
      "cell_type": "code",
      "source": [
        "# 7. create an exception handling program for the 5th program\n",
        "try:\n",
        "  print(2/0)\n",
        "except:\n",
        "  print(\"A zero division error occured\")"
      ],
      "metadata": {
        "colab": {
          "base_uri": "https://localhost:8080/"
        },
        "id": "jseHLy1m4cAu",
        "outputId": "e2f04158-da46-44a2-8dd4-d5b8c966dcc3"
      },
      "execution_count": null,
      "outputs": [
        {
          "output_type": "stream",
          "name": "stdout",
          "text": [
            "A zero division error occured\n"
          ]
        }
      ]
    },
    {
      "cell_type": "markdown",
      "source": [
        "8. exception handling is the process of responding to unexpected events when a computer program runs.exception handling deals with these events to prevent program or system crashing and without this process the program will disrupt the normal operation of the program"
      ],
      "metadata": {
        "id": "nO0i49Jy9AAi"
      }
    },
    {
      "cell_type": "code",
      "source": [
        "''' 9. so what will be the output of these two code\n",
        "a. try:\n",
        "  print(\"asbchv\")\n",
        "  print(var)\n",
        "  print(\"hello all\")\n",
        "except:\n",
        "  print(\"a name error occured\")'''\n"
      ],
      "metadata": {
        "colab": {
          "base_uri": "https://localhost:8080/"
        },
        "id": "HglV9gBS-i_o",
        "outputId": "ad3c7125-bf9d-4372-e618-1cfaca038b6f"
      },
      "execution_count": null,
      "outputs": [
        {
          "output_type": "stream",
          "name": "stdout",
          "text": [
            "asbchv\n",
            "a name error occured\n"
          ]
        }
      ]
    },
    {
      "cell_type": "code",
      "source": [
        "'''b.try:\n",
        "  print(\"asbchv\")\n",
        "  print(\"hello all\")\n",
        "  print(var)\n",
        "except:\n",
        "  print(\"a name error occured\")'''"
      ],
      "metadata": {
        "colab": {
          "base_uri": "https://localhost:8080/"
        },
        "id": "F7gZR0MeGGF2",
        "outputId": "82614ccd-2be3-474b-dad6-d946e8553408"
      },
      "execution_count": null,
      "outputs": [
        {
          "output_type": "stream",
          "name": "stdout",
          "text": [
            "asbchv\n",
            "hello all\n",
            "a name error occured\n"
          ]
        }
      ]
    },
    {
      "cell_type": "code",
      "source": [
        "# 10. to create a program to access an element in the list using exception handling\n",
        "lst1 = [1,2,3,4,5,6,7,8,9]\n",
        "try:\n",
        "  print(lst1[2])\n",
        "  print(lst1[11])\n",
        "except:\n",
        "  print(\"There is an error\")"
      ],
      "metadata": {
        "colab": {
          "base_uri": "https://localhost:8080/"
        },
        "id": "YR4rOJaXGboN",
        "outputId": "0dc9f3bd-bc84-49b1-ec5b-6405ed9a746d"
      },
      "execution_count": null,
      "outputs": [
        {
          "output_type": "stream",
          "name": "stdout",
          "text": [
            "3\n",
            "There is an error\n"
          ]
        }
      ]
    },
    {
      "cell_type": "code",
      "source": [
        "# 11. to create a program to access an element in the dictionary using exception handling\n",
        "mydic = {'a':1,'b':2}\n",
        "try:\n",
        "  print(mydic['a'])\n",
        "  print(mydic['c'])\n",
        "except:\n",
        "  print(\"There is an error\")"
      ],
      "metadata": {
        "colab": {
          "base_uri": "https://localhost:8080/"
        },
        "id": "dkNPzqTEJtrM",
        "outputId": "16562d58-793e-4974-fdf7-3c0005439762"
      },
      "execution_count": null,
      "outputs": [
        {
          "output_type": "stream",
          "name": "stdout",
          "text": [
            "1\n",
            "There is an error\n"
          ]
        }
      ]
    },
    {
      "cell_type": "code",
      "source": [
        "# 12. to create a program to access an element in the tuple using exception handling\n",
        "tup1 = (1,2,3,4,5,6)\n",
        "try:\n",
        "  print(tup1[2])\n",
        "  print(tup1[7])\n",
        "except:\n",
        "  print(\"There is an error\")"
      ],
      "metadata": {
        "colab": {
          "base_uri": "https://localhost:8080/"
        },
        "id": "5oNJQKU2KlD7",
        "outputId": "952a76cd-3d5f-4017-ccc3-cf23d25c1887"
      },
      "execution_count": null,
      "outputs": [
        {
          "output_type": "stream",
          "name": "stdout",
          "text": [
            "3\n",
            "There is an error\n"
          ]
        }
      ]
    },
    {
      "cell_type": "code",
      "source": [
        "# 13. to take two integers as input and add them using exception handling\n",
        "try:\n",
        "  n1 = int(input(\"Enter 1st no: \"))\n",
        "  n2 = int(input(\"Enter 2nd no: \"))\n",
        "  s = n1 + n2\n",
        "  print(\"sum : {0}\".format(s))\n",
        "except:\n",
        "  print(\"There is an error\")\n"
      ],
      "metadata": {
        "colab": {
          "base_uri": "https://localhost:8080/"
        },
        "id": "R6GSGmC4LuDN",
        "outputId": "581d2e3e-e26a-479f-e336-2572796b7598"
      },
      "execution_count": null,
      "outputs": [
        {
          "output_type": "stream",
          "name": "stdout",
          "text": [
            "Enter 1st no: 4.5\n",
            "There is an error\n"
          ]
        }
      ]
    },
    {
      "cell_type": "code",
      "source": [
        "# 14. to take two integers as input and add them using fstring and exception handling\n",
        "try:\n",
        "  n1 = int(input(\"Enter 1st no: \"))\n",
        "  n2 = int(input(\"Enter 2nd no: \"))\n",
        "  s = n1 + n2\n",
        "  print(f\"sum : {n1+n2}\")\n",
        "except:\n",
        "  print(\"There is an error\")"
      ],
      "metadata": {
        "colab": {
          "base_uri": "https://localhost:8080/"
        },
        "id": "rSxePNg2QiUw",
        "outputId": "e1e7f755-3cd0-4dd2-c9e2-19b2d3eec81c"
      },
      "execution_count": null,
      "outputs": [
        {
          "output_type": "stream",
          "name": "stdout",
          "text": [
            "Enter 1st no: 4\n",
            "Enter 2nd no: 5\n",
            "sum : 9\n"
          ]
        }
      ]
    },
    {
      "cell_type": "code",
      "source": [
        "try:\n",
        "  n1 = int(input(\"Enter 1st no: \"))\n",
        "  n2 = int(input(\"Enter 2nd no: \"))\n",
        "  s = n1 + n2\n",
        "  print(f\"sum : {n1+n2}\")\n",
        "except:\n",
        "  print(\"There is an error\")"
      ],
      "metadata": {
        "colab": {
          "base_uri": "https://localhost:8080/"
        },
        "id": "zIOrtbxOVTLT",
        "outputId": "58e02086-04e9-4284-e3e3-fc0a7f5f62f5"
      },
      "execution_count": null,
      "outputs": [
        {
          "output_type": "stream",
          "name": "stdout",
          "text": [
            "Enter 1st no: 4.5\n",
            "There is an error\n"
          ]
        }
      ]
    },
    {
      "cell_type": "code",
      "source": [
        "# 15. write a program to understand the function of try , except and finally\n",
        "try:\n",
        "  print(\"Exception_handling\")\n",
        "except:\n",
        "  print(\"An error occured\")\n",
        "finally:\n",
        "  print(\"Partially work done\")"
      ],
      "metadata": {
        "colab": {
          "base_uri": "https://localhost:8080/"
        },
        "id": "rcI6T1CdSFYq",
        "outputId": "96e20733-507f-49c5-d5d3-2cf5aca5c9d8"
      },
      "execution_count": null,
      "outputs": [
        {
          "output_type": "stream",
          "name": "stdout",
          "text": [
            "Exception_handling\n",
            "Partially work done\n"
          ]
        }
      ]
    },
    {
      "cell_type": "code",
      "source": [
        "try:\n",
        "  print(Exception_handling)\n",
        "except:\n",
        "  print(\"An error occured\")\n",
        "finally:\n",
        "  print(\"Partially work done\")"
      ],
      "metadata": {
        "colab": {
          "base_uri": "https://localhost:8080/"
        },
        "id": "JYDr6WbZVCYZ",
        "outputId": "eb9153b0-4541-4c92-8087-260521491764"
      },
      "execution_count": null,
      "outputs": [
        {
          "output_type": "stream",
          "name": "stdout",
          "text": [
            "An error occured\n",
            "Partially work done\n"
          ]
        }
      ]
    },
    {
      "cell_type": "code",
      "source": [
        "# 16. write a program to open the file write to it and close it\n",
        "try:\n",
        "  a = open(\"file.txt\",'w+')\n",
        "  try:\n",
        "    a.write(Medha)\n",
        "    a.seek(0)\n",
        "    print(a.read())\n",
        "  except:\n",
        "    print(\"There is an error\")\n",
        "  finally:\n",
        "    a.close()\n",
        "except:\n",
        "  print(\"Not able to open the file\")"
      ],
      "metadata": {
        "colab": {
          "base_uri": "https://localhost:8080/"
        },
        "id": "mE1u7T42WXIF",
        "outputId": "e64dc39c-45d6-4de5-ff5c-256204648c08"
      },
      "execution_count": null,
      "outputs": [
        {
          "output_type": "stream",
          "name": "stdout",
          "text": [
            "There is an error\n"
          ]
        }
      ]
    },
    {
      "cell_type": "code",
      "source": [
        "try:\n",
        "  a = open(\"file.txt\",'w+')\n",
        "  try:\n",
        "    a.write(\"Medha\")\n",
        "    a.seek(0)\n",
        "    print(a.read())\n",
        "  except:\n",
        "    print(\"There is an error\")\n",
        "  finally:\n",
        "    a.close()\n",
        "except:\n",
        "  print(\"Not able to open the file\")"
      ],
      "metadata": {
        "colab": {
          "base_uri": "https://localhost:8080/"
        },
        "id": "XAjChhaZZY-T",
        "outputId": "ed019f78-ada1-401f-c811-21b6a49b1273"
      },
      "execution_count": null,
      "outputs": [
        {
          "output_type": "stream",
          "name": "stdout",
          "text": [
            "Medha\n"
          ]
        }
      ]
    },
    {
      "cell_type": "code",
      "source": [
        "try:\n",
        "  a = open(\"file.txt\",'r+')\n",
        "  try:\n",
        "    a.write(\"Medha\")\n",
        "    a.seek(0)\n",
        "    print(a.read())\n",
        "  except:\n",
        "    print(\"There is an error\")\n",
        "  finally:\n",
        "    a.close()\n",
        "except:\n",
        "  print(\"Not able to open the file\")"
      ],
      "metadata": {
        "colab": {
          "base_uri": "https://localhost:8080/"
        },
        "id": "9tYL1G5oZfT9",
        "outputId": "8703a899-e56b-473c-8202-47195cf75f3c"
      },
      "execution_count": null,
      "outputs": [
        {
          "output_type": "stream",
          "name": "stdout",
          "text": [
            "Not able to open the file\n"
          ]
        }
      ]
    },
    {
      "cell_type": "code",
      "source": [
        "# 17. to raise a name error in the program using exception handling\n",
        "try:\n",
        "  raise NameError('abcd')\n",
        "except NameError:\n",
        "    print(\"There is an error\")\n",
        "    raise\n",
        "\n",
        ""
      ],
      "metadata": {
        "colab": {
          "base_uri": "https://localhost:8080/",
          "height": 253
        },
        "id": "T28R-qYz7ttX",
        "outputId": "5d7f6c05-24df-4622-c09d-85e720cef06b"
      },
      "execution_count": 9,
      "outputs": [
        {
          "output_type": "stream",
          "name": "stdout",
          "text": [
            "There is an error\n"
          ]
        },
        {
          "output_type": "error",
          "ename": "NameError",
          "evalue": "ignored",
          "traceback": [
            "\u001b[0;31m---------------------------------------------------------------------------\u001b[0m",
            "\u001b[0;31mNameError\u001b[0m                                 Traceback (most recent call last)",
            "\u001b[0;32m<ipython-input-9-6ca9d1abbc51>\u001b[0m in \u001b[0;36m<cell line: 2>\u001b[0;34m()\u001b[0m\n\u001b[1;32m      1\u001b[0m \u001b[0;31m# 17. to raise a name error in the program using exception handling\u001b[0m\u001b[0;34m\u001b[0m\u001b[0;34m\u001b[0m\u001b[0m\n\u001b[1;32m      2\u001b[0m \u001b[0;32mtry\u001b[0m\u001b[0;34m:\u001b[0m\u001b[0;34m\u001b[0m\u001b[0;34m\u001b[0m\u001b[0m\n\u001b[0;32m----> 3\u001b[0;31m   \u001b[0;32mraise\u001b[0m \u001b[0mNameError\u001b[0m\u001b[0;34m(\u001b[0m\u001b[0;34m'abcd'\u001b[0m\u001b[0;34m)\u001b[0m\u001b[0;34m\u001b[0m\u001b[0;34m\u001b[0m\u001b[0m\n\u001b[0m\u001b[1;32m      4\u001b[0m \u001b[0;32mexcept\u001b[0m \u001b[0mNameError\u001b[0m\u001b[0;34m:\u001b[0m\u001b[0;34m\u001b[0m\u001b[0;34m\u001b[0m\u001b[0m\n\u001b[1;32m      5\u001b[0m     \u001b[0mprint\u001b[0m\u001b[0;34m(\u001b[0m\u001b[0;34m\"There is an error\"\u001b[0m\u001b[0;34m)\u001b[0m\u001b[0;34m\u001b[0m\u001b[0;34m\u001b[0m\u001b[0m\n",
            "\u001b[0;31mNameError\u001b[0m: abcd"
          ]
        }
      ]
    },
    {
      "cell_type": "code",
      "source": [
        "# 18. to raise a zero division error in the program using exception handling\n",
        "try:\n",
        "  raise ZeroDivisionError(5/2)\n",
        "except ZeroDivisionError:\n",
        "  print(\"There is an error\")\n",
        "  raise"
      ],
      "metadata": {
        "colab": {
          "base_uri": "https://localhost:8080/",
          "height": 253
        },
        "id": "TKpeZpOp9vps",
        "outputId": "5ceb5485-7da6-4f8e-c128-1cdcdc1f4b5f"
      },
      "execution_count": 10,
      "outputs": [
        {
          "output_type": "stream",
          "name": "stdout",
          "text": [
            "There is an error\n"
          ]
        },
        {
          "output_type": "error",
          "ename": "ZeroDivisionError",
          "evalue": "ignored",
          "traceback": [
            "\u001b[0;31m---------------------------------------------------------------------------\u001b[0m",
            "\u001b[0;31mZeroDivisionError\u001b[0m                         Traceback (most recent call last)",
            "\u001b[0;32m<ipython-input-10-32b6a68a2fb2>\u001b[0m in \u001b[0;36m<cell line: 2>\u001b[0;34m()\u001b[0m\n\u001b[1;32m      1\u001b[0m \u001b[0;31m# 18. to raise a zero division error in the program using exception handling\u001b[0m\u001b[0;34m\u001b[0m\u001b[0;34m\u001b[0m\u001b[0m\n\u001b[1;32m      2\u001b[0m \u001b[0;32mtry\u001b[0m\u001b[0;34m:\u001b[0m\u001b[0;34m\u001b[0m\u001b[0;34m\u001b[0m\u001b[0m\n\u001b[0;32m----> 3\u001b[0;31m   \u001b[0;32mraise\u001b[0m \u001b[0mZeroDivisionError\u001b[0m\u001b[0;34m(\u001b[0m\u001b[0;36m5\u001b[0m\u001b[0;34m/\u001b[0m\u001b[0;36m2\u001b[0m\u001b[0;34m)\u001b[0m\u001b[0;34m\u001b[0m\u001b[0;34m\u001b[0m\u001b[0m\n\u001b[0m\u001b[1;32m      4\u001b[0m \u001b[0;32mexcept\u001b[0m \u001b[0mZeroDivisionError\u001b[0m\u001b[0;34m:\u001b[0m\u001b[0;34m\u001b[0m\u001b[0;34m\u001b[0m\u001b[0m\n\u001b[1;32m      5\u001b[0m   \u001b[0mprint\u001b[0m\u001b[0;34m(\u001b[0m\u001b[0;34m\"There is an error\"\u001b[0m\u001b[0;34m)\u001b[0m\u001b[0;34m\u001b[0m\u001b[0;34m\u001b[0m\u001b[0m\n",
            "\u001b[0;31mZeroDivisionError\u001b[0m: 2.5"
          ]
        }
      ]
    },
    {
      "cell_type": "code",
      "source": [
        "# 19. to find the smallest no in the list\n",
        "lst2 = [1,2,3,4,5,6,7,8,9]\n",
        "print(\"Smallest no :{0}\".format(min(lst2)))"
      ],
      "metadata": {
        "colab": {
          "base_uri": "https://localhost:8080/"
        },
        "id": "TNexBXScAV06",
        "outputId": "e4c24b2a-cf1e-4048-98ee-31d825218749"
      },
      "execution_count": 2,
      "outputs": [
        {
          "output_type": "stream",
          "name": "stdout",
          "text": [
            "Smallest no :1\n"
          ]
        }
      ]
    },
    {
      "cell_type": "code",
      "source": [
        "# 20. to find the largest no in the list\n",
        "print(\"Largest no :{0}\".format(max(lst2)))"
      ],
      "metadata": {
        "colab": {
          "base_uri": "https://localhost:8080/"
        },
        "id": "HPT7YKDsFk8A",
        "outputId": "f5e2d7eb-b710-49b7-c319-2642b83ce762"
      },
      "execution_count": 13,
      "outputs": [
        {
          "output_type": "stream",
          "name": "stdout",
          "text": [
            "Largest no :9\n"
          ]
        }
      ]
    },
    {
      "cell_type": "code",
      "source": [
        "# 21. to display the alternate elements in the list\n",
        "print(lst2[0::2])"
      ],
      "metadata": {
        "colab": {
          "base_uri": "https://localhost:8080/"
        },
        "id": "BXQcnCSVGySu",
        "outputId": "f1d56c47-d24a-4986-effa-ddfeebe18ef4"
      },
      "execution_count": 14,
      "outputs": [
        {
          "output_type": "stream",
          "name": "stdout",
          "text": [
            "[1, 3, 5, 7, 9]\n"
          ]
        }
      ]
    },
    {
      "cell_type": "code",
      "source": [
        "# 22. write a program to delete the odd numbers in the list and print the even numbers\n",
        "for i in lst2:\n",
        "  if(i%2 != 0):\n",
        "     lst2.remove(i)\n",
        "print(lst2)"
      ],
      "metadata": {
        "colab": {
          "base_uri": "https://localhost:8080/"
        },
        "id": "fBLhtLTSHAZu",
        "outputId": "c1f490b5-51a1-40da-9c5b-b72313ed319d"
      },
      "execution_count": 3,
      "outputs": [
        {
          "output_type": "stream",
          "name": "stdout",
          "text": [
            "[2, 4, 6, 8]\n"
          ]
        }
      ]
    },
    {
      "cell_type": "markdown",
      "source": [
        "***class 9***"
      ],
      "metadata": {
        "id": "PdsJVJ06_sKd"
      }
    },
    {
      "cell_type": "code",
      "source": [
        "# 1. one example of regular expression\n",
        "import re\n",
        "a = \"My name is Medha\"\n",
        "match = re.search(\"My\",a)\n",
        "print(\"Starting index no : \",match.start())\n",
        "print(\"Ending index no : \",match.end())"
      ],
      "metadata": {
        "colab": {
          "base_uri": "https://localhost:8080/"
        },
        "id": "uXxtaDnR_vd5",
        "outputId": "b19b354f-ea39-404d-f6da-14d650dd64aa"
      },
      "execution_count": 2,
      "outputs": [
        {
          "output_type": "stream",
          "name": "stdout",
          "text": [
            "Starting index no :  0\n",
            "Ending index no :  2\n"
          ]
        }
      ]
    },
    {
      "cell_type": "code",
      "source": [
        "print(match)"
      ],
      "metadata": {
        "colab": {
          "base_uri": "https://localhost:8080/"
        },
        "id": "N8DR_43bxero",
        "outputId": "6b22f115-4cf3-4dc6-d976-43d229a29bb1"
      },
      "execution_count": 13,
      "outputs": [
        {
          "output_type": "stream",
          "name": "stdout",
          "text": [
            "<re.Match object; span=(0, 2), match='My'>\n"
          ]
        }
      ]
    },
    {
      "cell_type": "code",
      "source": [
        "print(a[0:2])"
      ],
      "metadata": {
        "colab": {
          "base_uri": "https://localhost:8080/"
        },
        "id": "lQLUbmIDlhgb",
        "outputId": "8cf732d3-3d95-4d44-f495-a6b8e4057b85"
      },
      "execution_count": 5,
      "outputs": [
        {
          "output_type": "stream",
          "name": "stdout",
          "text": [
            "My\n"
          ]
        }
      ]
    },
    {
      "cell_type": "code",
      "source": [
        "a2 = re.findall(\"Me.{2}a\",a)\n",
        "print(a2)"
      ],
      "metadata": {
        "colab": {
          "base_uri": "https://localhost:8080/"
        },
        "id": "OUBFvZSvmBwi",
        "outputId": "2d3272e9-28c6-4bff-84a3-648aa3dcc281"
      },
      "execution_count": 41,
      "outputs": [
        {
          "output_type": "stream",
          "name": "stdout",
          "text": [
            "['Medha']\n"
          ]
        }
      ]
    },
    {
      "cell_type": "code",
      "source": [],
      "metadata": {
        "id": "EP1u7fjynURX"
      },
      "execution_count": null,
      "outputs": []
    },
    {
      "cell_type": "code",
      "source": [
        "# 2. a. one example of inbuilt module to print the date and time\n",
        "import datetime\n",
        "x = datetime.datetime.today()\n",
        "print(x)"
      ],
      "metadata": {
        "colab": {
          "base_uri": "https://localhost:8080/"
        },
        "id": "kbd-fbWplx86",
        "outputId": "9e939e1d-83bf-4762-c21c-62d022e9c66c"
      },
      "execution_count": 10,
      "outputs": [
        {
          "output_type": "stream",
          "name": "stdout",
          "text": [
            "2023-07-27 09:54:35.324327\n"
          ]
        }
      ]
    },
    {
      "cell_type": "code",
      "source": [
        "# b. to print year\n",
        "print(x.year)"
      ],
      "metadata": {
        "colab": {
          "base_uri": "https://localhost:8080/"
        },
        "id": "HluzS4vow6hl",
        "outputId": "e0feac37-efe5-48a1-d2f0-721fbd706ab8"
      },
      "execution_count": 11,
      "outputs": [
        {
          "output_type": "stream",
          "name": "stdout",
          "text": [
            "2023\n"
          ]
        }
      ]
    },
    {
      "cell_type": "code",
      "source": [
        "# c. to print the shortform and the fullform of the current day\n",
        "print(x.strftime(\"%a\"))\n",
        "print(x.strftime(\"%A\"))"
      ],
      "metadata": {
        "colab": {
          "base_uri": "https://localhost:8080/"
        },
        "id": "y9YVwXhPxGyI",
        "outputId": "851acdea-b108-4073-b50e-ee601b9fb1af"
      },
      "execution_count": 14,
      "outputs": [
        {
          "output_type": "stream",
          "name": "stdout",
          "text": [
            "Thu\n",
            "Thursday\n"
          ]
        }
      ]
    },
    {
      "cell_type": "code",
      "source": [
        "# d. to print only the current date\n",
        "print(x.strftime(\"%x\"))\n",
        "print(x.strftime(\"%X\"))"
      ],
      "metadata": {
        "colab": {
          "base_uri": "https://localhost:8080/"
        },
        "id": "P12qqifKxh8L",
        "outputId": "4668fec9-337e-44d2-c1ed-0c58f0f7b135"
      },
      "execution_count": 15,
      "outputs": [
        {
          "output_type": "stream",
          "name": "stdout",
          "text": [
            "07/27/23\n",
            "09:54:35\n"
          ]
        }
      ]
    },
    {
      "cell_type": "code",
      "source": [
        "# e. to print the shortform and the fullform of the current month\n",
        "print(x.strftime(\"%b\"))\n",
        "print(x.strftime(\"%B\"))"
      ],
      "metadata": {
        "colab": {
          "base_uri": "https://localhost:8080/"
        },
        "id": "QnEAlkAZy1ot",
        "outputId": "3fcc7e9d-24ab-4d15-edb2-af3eead6e29f"
      },
      "execution_count": 18,
      "outputs": [
        {
          "output_type": "stream",
          "name": "stdout",
          "text": [
            "Jul\n",
            "July\n"
          ]
        }
      ]
    },
    {
      "cell_type": "code",
      "source": [
        "# f. we know monday is the 1st day of week like that to find out current day is which day of the week\n",
        "print(x.strftime(\"%w\"))"
      ],
      "metadata": {
        "colab": {
          "base_uri": "https://localhost:8080/"
        },
        "id": "pkQGJ_xT0RIw",
        "outputId": "3006075d-a430-44f4-bb8e-8ec7851e322d"
      },
      "execution_count": 19,
      "outputs": [
        {
          "output_type": "stream",
          "name": "stdout",
          "text": [
            "4\n"
          ]
        }
      ]
    },
    {
      "cell_type": "code",
      "source": [
        "# 3. one example of a custom module\n",
        "import mymodule\n",
        "z = mymodule.a(\"November\",\"Medha\")"
      ],
      "metadata": {
        "colab": {
          "base_uri": "https://localhost:8080/"
        },
        "id": "S3fHGfRI2Rv9",
        "outputId": "aec0f21f-c21d-4472-e948-737783561b05"
      },
      "execution_count": 20,
      "outputs": [
        {
          "output_type": "stream",
          "name": "stdout",
          "text": [
            "I am from November batch\n",
            "My name is Medha\n"
          ]
        }
      ]
    },
    {
      "cell_type": "code",
      "source": [
        "# 4. a. one example of inbuilt module to print sin and cos value\n",
        "import math\n",
        "print(math.sin(0))\n",
        "print(math.sin(90))\n",
        "print(math.sin(180))\n",
        "print(math.cos(0))\n",
        "print(math.cos(90))\n",
        "print(math.cos(180))"
      ],
      "metadata": {
        "colab": {
          "base_uri": "https://localhost:8080/"
        },
        "id": "Jxqy5y9i3uu2",
        "outputId": "027be34d-9c6c-43fc-bded-2483dea449c1"
      },
      "execution_count": 27,
      "outputs": [
        {
          "output_type": "stream",
          "name": "stdout",
          "text": [
            "0.0\n",
            "0.8939966636005579\n",
            "-0.8011526357338304\n",
            "1.0\n",
            "-0.4480736161291701\n",
            "-0.5984600690578581\n"
          ]
        }
      ]
    },
    {
      "cell_type": "code",
      "source": [
        "# b. to print the pi value\n",
        "print(math.pi)"
      ],
      "metadata": {
        "colab": {
          "base_uri": "https://localhost:8080/"
        },
        "id": "nov6ezF78lZt",
        "outputId": "1e821deb-2bb3-4512-93ea-cb6124c343bd"
      },
      "execution_count": 28,
      "outputs": [
        {
          "output_type": "stream",
          "name": "stdout",
          "text": [
            "3.141592653589793\n"
          ]
        }
      ]
    },
    {
      "cell_type": "code",
      "source": [
        "# c. to print the square root value\n",
        "print(math.sqrt(4))"
      ],
      "metadata": {
        "colab": {
          "base_uri": "https://localhost:8080/"
        },
        "id": "_PMIOAAZ83ay",
        "outputId": "8f750a06-1af2-49bc-ec4a-e528ae23643d"
      },
      "execution_count": 29,
      "outputs": [
        {
          "output_type": "stream",
          "name": "stdout",
          "text": [
            "2.0\n"
          ]
        }
      ]
    },
    {
      "cell_type": "code",
      "source": [
        "# d. built in module to check which os u are working on now\n",
        "import platform\n",
        "x = platform.system()\n",
        "print(x)"
      ],
      "metadata": {
        "colab": {
          "base_uri": "https://localhost:8080/"
        },
        "id": "SvSXyTzg9E7g",
        "outputId": "504f9d26-1fd2-47e4-be0f-07e8d78f11a2"
      },
      "execution_count": 31,
      "outputs": [
        {
          "output_type": "stream",
          "name": "stdout",
          "text": [
            "Linux\n"
          ]
        }
      ]
    },
    {
      "cell_type": "code",
      "source": [
        "# 5. custom module to print the output\n",
        "import sys\n",
        "def output(*a):\n",
        "  print(*a,file = sys.stderr)\n",
        "output(\"Hello world\",\"Medha Sreenivasan\")"
      ],
      "metadata": {
        "colab": {
          "base_uri": "https://localhost:8080/"
        },
        "id": "u6dAdoK2D1Bv",
        "outputId": "e3e5ba16-e7e7-4336-b8a8-29aedd14f85e"
      },
      "execution_count": 35,
      "outputs": [
        {
          "output_type": "stream",
          "name": "stderr",
          "text": [
            "Hello world Medha Sreenivasan\n"
          ]
        }
      ]
    },
    {
      "cell_type": "code",
      "source": [
        "# 6. built in module to print random numbers from 1 to 5\n",
        "import random\n",
        "print(random.randint(0,5))"
      ],
      "metadata": {
        "colab": {
          "base_uri": "https://localhost:8080/"
        },
        "id": "9bfekoc8Qfbg",
        "outputId": "efe18aee-d11e-4a58-a140-99a18fcabd27"
      },
      "execution_count": 37,
      "outputs": [
        {
          "output_type": "stream",
          "name": "stdout",
          "text": [
            "1\n"
          ]
        }
      ]
    },
    {
      "cell_type": "code",
      "source": [
        "# 7. built in module to print random element from the list\n",
        "lst3 = [1,2,3,\"Medha\",\"Srivani\"]\n",
        "print(random.choice(lst3))"
      ],
      "metadata": {
        "colab": {
          "base_uri": "https://localhost:8080/"
        },
        "id": "WVgfRrTmWPRy",
        "outputId": "1ba14891-36b9-425d-e89a-7d7fff6494a9"
      },
      "execution_count": 39,
      "outputs": [
        {
          "output_type": "stream",
          "name": "stdout",
          "text": [
            "Srivani\n"
          ]
        }
      ]
    },
    {
      "cell_type": "code",
      "source": [
        "# 8. built in module to print a database\n",
        "import pandas as pd\n",
        "df = pd.read_csv(\"MC_LAB_ASSIGNMENT_GROUPS.csv\")\n",
        "print(df)"
      ],
      "metadata": {
        "colab": {
          "base_uri": "https://localhost:8080/"
        },
        "id": "fqkB5a_LW01j",
        "outputId": "1c878349-1238-4c6e-c596-f4129fcbd7d3"
      },
      "execution_count": 40,
      "outputs": [
        {
          "output_type": "stream",
          "name": "stdout",
          "text": [
            "    S.No              Student Name Registration Number  Group Number  \\\n",
            "0      1              Tejashwini.V    BL.EN.U4EAC20083           1.0   \n",
            "1      2  DIVVI SHYAM PRASAD NAIDU    BL.EN.U4EAC21018           1.0   \n",
            "2      3          Munupalle Madhav    BL.EN.U4EAC19041           1.0   \n",
            "3    NaN                       NaN                 NaN           NaN   \n",
            "4      4           A Hemanth Reddy    BL.EN.U4EAC21006           2.0   \n",
            "..   ...                       ...                 ...           ...   \n",
            "103  NaN                       NaN                 NaN           NaN   \n",
            "104   79            Gnanapriya M A    BL.EN.U4EAC21022          27.0   \n",
            "105   80                Abhinaya S    BL.EN.U4EAC21002          27.0   \n",
            "106   81                  Pranav A    BL.EN.U4EAC21050          27.0   \n",
            "107   82                  Rochan R    BL.EN.U4EAC21057          27.0   \n",
            "\n",
            "                        Group Topic  \n",
            "0                               NaN  \n",
            "1                               NaN  \n",
            "2                               NaN  \n",
            "3                               NaN  \n",
            "4         Touch sensor with LPC2148  \n",
            "..                              ...  \n",
            "103                             NaN  \n",
            "104  UART interfacing using LPC2148  \n",
            "105  UART interfacing using LPC2148  \n",
            "106  UART interfacing using LPC2148  \n",
            "107  UART interfacing using LPC2148  \n",
            "\n",
            "[108 rows x 5 columns]\n"
          ]
        }
      ]
    },
    {
      "cell_type": "code",
      "source": [
        "''' 9. to print the list of different characters(numbers or alphabets or special characters)\n",
        "composing the string.'''\n",
        "data = \"Me code 123521532\"\n",
        "x = re.findall(\"[1,3,3,2]\",data)\n",
        "print(x)"
      ],
      "metadata": {
        "colab": {
          "base_uri": "https://localhost:8080/"
        },
        "id": "FRTOL-iskhvV",
        "outputId": "c913bea5-6b49-4483-963e-883e7679d9fb"
      },
      "execution_count": 3,
      "outputs": [
        {
          "output_type": "stream",
          "name": "stdout",
          "text": [
            "['1', '2', '3', '2', '1', '3', '2']\n"
          ]
        }
      ]
    },
    {
      "cell_type": "code",
      "source": [
        "# didn't understand . understand it better from some other source\n",
        "if x:\n",
        "  print(\"Yes there is a match\")\n",
        "else:\n",
        "  print(\"No match\")"
      ],
      "metadata": {
        "colab": {
          "base_uri": "https://localhost:8080/"
        },
        "id": "IheXj5AAUQhj",
        "outputId": "fb77d212-fe3b-4ac6-d760-f50427b8d3a2"
      },
      "execution_count": 7,
      "outputs": [
        {
          "output_type": "stream",
          "name": "stdout",
          "text": [
            "Yes there is a match\n"
          ]
        }
      ]
    },
    {
      "cell_type": "code",
      "source": [
        "# 10. code->in a string made of two or more words to replace the blank space with any input given by the user\n",
        "y = re.sub(\"\\s\",\"...\",data)\n",
        "print(y)"
      ],
      "metadata": {
        "colab": {
          "base_uri": "https://localhost:8080/"
        },
        "id": "eIok7U3Aa8s8",
        "outputId": "d03cea1e-cd73-4cee-b90e-2d704819ba33"
      },
      "execution_count": 8,
      "outputs": [
        {
          "output_type": "stream",
          "name": "stdout",
          "text": [
            "Me...code...123521532\n"
          ]
        }
      ]
    },
    {
      "cell_type": "code",
      "source": [
        "# 11. code-> in a string made of two or more words to split them such that each word is an element stored in the list\n",
        "z = re.split(\"\\s\",data)\n",
        "print(z)"
      ],
      "metadata": {
        "colab": {
          "base_uri": "https://localhost:8080/"
        },
        "id": "Kprk3_7nbuly",
        "outputId": "6bc82ffd-967b-406e-ca64-64c2cd1ff12f"
      },
      "execution_count": 9,
      "outputs": [
        {
          "output_type": "stream",
          "name": "stdout",
          "text": [
            "['Me', 'code', '123521532']\n"
          ]
        }
      ]
    },
    {
      "cell_type": "code",
      "source": [
        "# 12. code -> in a string split the numbers into single digits and store them in the list\n",
        "w = re.findall(\"\\d\",data)\n",
        "print(w)"
      ],
      "metadata": {
        "colab": {
          "base_uri": "https://localhost:8080/"
        },
        "id": "DgfsADQmcq4B",
        "outputId": "0e115204-6d0b-41c4-e8f3-e3ae7d0a1eee"
      },
      "execution_count": 11,
      "outputs": [
        {
          "output_type": "stream",
          "name": "stdout",
          "text": [
            "['1', '2', '3', '5', '2', '1', '5', '3', '2']\n"
          ]
        }
      ]
    },
    {
      "cell_type": "code",
      "source": [
        "# 13. code-> to combine the digits in list w to a single number\n",
        "v = re.findall(\"\\d+\",data)\n",
        "print(v)"
      ],
      "metadata": {
        "colab": {
          "base_uri": "https://localhost:8080/"
        },
        "id": "pdh87_e_gMOb",
        "outputId": "be4143b2-45d3-4d22-c6da-344d3556a87c"
      },
      "execution_count": 12,
      "outputs": [
        {
          "output_type": "stream",
          "name": "stdout",
          "text": [
            "['123521532']\n"
          ]
        }
      ]
    },
    {
      "cell_type": "code",
      "source": [
        "''' 14. code->in a string to split all the words and store every character as an element in the list\n",
        "stored in the list'''\n",
        "q = re.findall(\"\\S\",data)\n",
        "print(q)"
      ],
      "metadata": {
        "colab": {
          "base_uri": "https://localhost:8080/"
        },
        "id": "PLYClVDmhP1h",
        "outputId": "3082d750-fb97-4efa-9b1f-1fcf33207dfb"
      },
      "execution_count": 14,
      "outputs": [
        {
          "output_type": "stream",
          "name": "stdout",
          "text": [
            "['M', 'e', 'c', 'o', 'd', 'e', '1', '2', '3', '5', '2', '1', '5', '3', '2']\n"
          ]
        }
      ]
    }
  ]
}