{
  "nbformat": 4,
  "nbformat_minor": 0,
  "metadata": {
    "colab": {
      "provenance": [],
      "authorship_tag": "ABX9TyNesSs3N41QEZK+05TEgfIP",
      "include_colab_link": true
    },
    "kernelspec": {
      "name": "python3",
      "display_name": "Python 3"
    },
    "language_info": {
      "name": "python"
    }
  },
  "cells": [
    {
      "cell_type": "markdown",
      "metadata": {
        "id": "view-in-github",
        "colab_type": "text"
      },
      "source": [
        "<a href=\"https://colab.research.google.com/github/96868/ML_Python/blob/main/class_1_%26_class_2.ipynb\" target=\"_parent\"><img src=\"https://colab.research.google.com/assets/colab-badge.svg\" alt=\"Open In Colab\"/></a>"
      ]
    },
    {
      "cell_type": "markdown",
      "source": [
        "***class 1***"
      ],
      "metadata": {
        "id": "eR3QpJSiEUTE"
      }
    },
    {
      "cell_type": "markdown",
      "source": [
        "1. general purpose,interpreted,interactive,object oriented,high level programming language,highly readable,integrated\n",
        "\n",
        "2. fewer lines of code,syntax easy-code readable-easy to learn,lot of applications-web development-data science-rapid application development"
      ],
      "metadata": {
        "id": "cVeoIfBnu5i7"
      }
    },
    {
      "cell_type": "code",
      "source": [
        "# 3. comment 2 types\n",
        "''' 1. a # is used to give a single line comment\n",
        "a ''' ''' for multi line comment\n",
        "comment is part of the code which is not executed during runtime and is used to type the information\n",
        "about how code works to make the readers understand'''"
      ],
      "metadata": {
        "id": "OY-athDzvY5y"
      },
      "execution_count": null,
      "outputs": []
    },
    {
      "cell_type": "code",
      "source": [
        "''' variable - a bag which can store\n",
        "1. one value of any data type\n",
        "2. many values of same data type\n",
        "3. many values of different data types '''\n",
        "''' name of the variable can contain numbers,underscore,and alphabets but with certain rules\n",
        "1. variable name cannot start with a number.'''\n",
        "# 4. how to name a variable\n",
        "_num1 = 100\n",
        "print(_num1)\n",
        "num1 = 90\n",
        "print(num1)\n",
        "Num2 = 80\n",
        "print(Num2)"
      ],
      "metadata": {
        "colab": {
          "base_uri": "https://localhost:8080/"
        },
        "id": "dUQTbCb1x9u5",
        "outputId": "fb16bd63-4043-4ae1-c415-0d2385ac4a89"
      },
      "execution_count": 2,
      "outputs": [
        {
          "output_type": "stream",
          "name": "stdout",
          "text": [
            "100\n",
            "90\n",
            "80\n"
          ]
        }
      ]
    },
    {
      "cell_type": "code",
      "source": [
        "1num = 50\n",
        "print(1num)"
      ],
      "metadata": {
        "colab": {
          "base_uri": "https://localhost:8080/",
          "height": 131
        },
        "id": "Sy7A92Gq02op",
        "outputId": "95e50a25-4a4c-4de4-920e-8071d50139bb"
      },
      "execution_count": 3,
      "outputs": [
        {
          "output_type": "error",
          "ename": "SyntaxError",
          "evalue": "ignored",
          "traceback": [
            "\u001b[0;36m  File \u001b[0;32m\"<ipython-input-3-4ee033ae05b6>\"\u001b[0;36m, line \u001b[0;32m1\u001b[0m\n\u001b[0;31m    1num = 50\u001b[0m\n\u001b[0m    ^\u001b[0m\n\u001b[0;31mSyntaxError\u001b[0m\u001b[0;31m:\u001b[0m invalid decimal literal\n"
          ]
        }
      ]
    },
    {
      "cell_type": "code",
      "source": [
        "# 5. different types of variables\n",
        "numa = 100\n",
        "numb = 49.5\n",
        "numc = True\n",
        "numd = \"medha\""
      ],
      "metadata": {
        "id": "9uxtgNuZ058o"
      },
      "execution_count": 4,
      "outputs": []
    },
    {
      "cell_type": "code",
      "source": [
        "# 6. to find the data type of the variable\n",
        "print(type(numa))\n",
        "print(type(numb))\n",
        "print(type(numc))\n",
        "print(type(numd))"
      ],
      "metadata": {
        "colab": {
          "base_uri": "https://localhost:8080/"
        },
        "id": "XkiGObA_1gCv",
        "outputId": "61d0f43e-55d6-4ad5-b874-ba486a6d87ae"
      },
      "execution_count": 5,
      "outputs": [
        {
          "output_type": "stream",
          "name": "stdout",
          "text": [
            "<class 'int'>\n",
            "<class 'float'>\n",
            "<class 'bool'>\n",
            "<class 'str'>\n"
          ]
        }
      ]
    },
    {
      "cell_type": "code",
      "source": [
        "# 7. to concatenate 2 strings - 2 ways\n",
        "print(\"My name 1 is \",numd)\n",
        "print(\"My name 2 is \"+numd)"
      ],
      "metadata": {
        "colab": {
          "base_uri": "https://localhost:8080/"
        },
        "id": "V3d3b5Ap-uDf",
        "outputId": "0458dc0a-ebff-4622-a6c2-b8eb40db9716"
      },
      "execution_count": 6,
      "outputs": [
        {
          "output_type": "stream",
          "name": "stdout",
          "text": [
            "My name 1 is  medha\n",
            "My name 2 is medha\n"
          ]
        }
      ]
    },
    {
      "cell_type": "code",
      "source": [
        "# 8. to concatenate a string and an integer\n",
        "a = 21\n",
        "b = 45.6\n",
        "print(\"The sum is \",(a+b))"
      ],
      "metadata": {
        "colab": {
          "base_uri": "https://localhost:8080/"
        },
        "id": "phpGtpwd_Ez9",
        "outputId": "62bb5bc9-20e0-40d4-b234-ce565434dc16"
      },
      "execution_count": 7,
      "outputs": [
        {
          "output_type": "stream",
          "name": "stdout",
          "text": [
            "The sum is  66.6\n"
          ]
        }
      ]
    },
    {
      "cell_type": "markdown",
      "source": [
        "9. float. if both the values to be added are of type int then the result will be of type integer"
      ],
      "metadata": {
        "id": "Ke327imc_a39"
      }
    },
    {
      "cell_type": "code",
      "source": [
        "# 10. to print boolean value using a relational expression\n",
        "print(10<9)\n"
      ],
      "metadata": {
        "colab": {
          "base_uri": "https://localhost:8080/"
        },
        "id": "LB5C5zio_rA_",
        "outputId": "8b4f9d3d-2cb8-4ca3-afcc-36aacb896eee"
      },
      "execution_count": 8,
      "outputs": [
        {
          "output_type": "stream",
          "name": "stdout",
          "text": [
            "False\n"
          ]
        }
      ]
    },
    {
      "cell_type": "markdown",
      "source": [
        "11. 1.List\n",
        "\n",
        "    2.tuple\n",
        "\n",
        "    3.dictionary\n",
        "\n",
        "    4.set\n",
        "\n",
        "    5.collection datatype - the datatype of a variable which stores variables of different datatypes such as int , float , str , bool etc."
      ],
      "metadata": {
        "id": "mzvc9-2sAA9t"
      }
    },
    {
      "cell_type": "code",
      "source": [
        "# 12. to concatenate two inputs given by the user\n",
        "c = input(\"Enter a value\")\n",
        "d = input(\"Enter a value\")\n",
        "print(c+d)"
      ],
      "metadata": {
        "colab": {
          "base_uri": "https://localhost:8080/"
        },
        "id": "eH9cXAQYArCc",
        "outputId": "4be47e1b-8e1b-4d65-d762-3cca5636deb2"
      },
      "execution_count": 9,
      "outputs": [
        {
          "output_type": "stream",
          "name": "stdout",
          "text": [
            "Enter a value4\n",
            "Enter a value5\n",
            "45\n"
          ]
        }
      ]
    },
    {
      "cell_type": "code",
      "source": [
        "# 13. to add two inputs given by the user\n",
        "e = int(input(\"Enter 1st number\"))\n",
        "f = int(input(\"Enter 2nd number\"))\n",
        "print(e+f)"
      ],
      "metadata": {
        "colab": {
          "base_uri": "https://localhost:8080/"
        },
        "id": "bP_KxpqpBP_u",
        "outputId": "f4ce1ac6-0c28-483f-8e9c-c3215c7d0fde"
      },
      "execution_count": 10,
      "outputs": [
        {
          "output_type": "stream",
          "name": "stdout",
          "text": [
            "Enter 1st number4\n",
            "Enter 2nd number5\n",
            "9\n"
          ]
        }
      ]
    },
    {
      "cell_type": "markdown",
      "source": [
        "***class 2***"
      ],
      "metadata": {
        "id": "4EsfnACbB0iv"
      }
    },
    {
      "cell_type": "markdown",
      "source": [
        "1. ordered collection of datatypes and mutable\n",
        "2. to access an individual element using index no / position no\n"
      ],
      "metadata": {
        "id": "lWeAP1t6CCt1"
      }
    },
    {
      "cell_type": "code",
      "source": [
        "''' 3. 2 types of indexing\n",
        "1. positive indexing - access an individual element in the list using positive index no\n",
        "2. negative indexing - '' using negative index no '''\n",
        "list1 = [2,3.4,\"comp\"]\n",
        "print(list1[1])\n",
        "print(list1[-3])"
      ],
      "metadata": {
        "colab": {
          "base_uri": "https://localhost:8080/"
        },
        "id": "wzLhP8lTCfPW",
        "outputId": "7c0eeadf-0d0b-4d87-89de-e571d65794dc"
      },
      "execution_count": 11,
      "outputs": [
        {
          "output_type": "stream",
          "name": "stdout",
          "text": [
            "3.4\n",
            "2\n"
          ]
        }
      ]
    },
    {
      "cell_type": "markdown",
      "source": [
        "4. to access a range of elements in a list we use slicing or to print a sequence of elements"
      ],
      "metadata": {
        "id": "-yFRm74mDV1y"
      }
    },
    {
      "cell_type": "code",
      "source": [
        "''' 5. 2 types of slicing\n",
        "1. positive slicing - access range of elements in a list using positive starting and ending index\n",
        "2. negative slicing - '' using negative starting and ending index'''\n",
        "list2 = [3,4,4.5,5.6,\"me\",\"you\"]\n",
        "print(list2[2:5])\n",
        "print(list2[-4:-2])\n",
        "print(list1[1:])\n",
        "print(list2[:-4])"
      ],
      "metadata": {
        "colab": {
          "base_uri": "https://localhost:8080/"
        },
        "id": "gYW58e8yDjpa",
        "outputId": "d0884bca-79f0-40a1-f23a-38f1e2c81aa8"
      },
      "execution_count": 14,
      "outputs": [
        {
          "output_type": "stream",
          "name": "stdout",
          "text": [
            "[4.5, 5.6, 'me']\n",
            "[4.5, 5.6]\n",
            "[3.4, 'comp']\n",
            "[3, 4]\n"
          ]
        }
      ]
    },
    {
      "cell_type": "code",
      "source": [
        "# 6. to reverse the order of elements in the list\n",
        "list2.reverse()\n",
        "print(list2)"
      ],
      "metadata": {
        "colab": {
          "base_uri": "https://localhost:8080/"
        },
        "id": "N4fuweqpFllp",
        "outputId": "686a85cb-2c6d-4d01-b4a8-934a7e2d307f"
      },
      "execution_count": 15,
      "outputs": [
        {
          "output_type": "stream",
          "name": "stdout",
          "text": [
            "['you', 'me', 5.6, 4.5, 4, 3]\n"
          ]
        }
      ]
    },
    {
      "cell_type": "code",
      "source": [
        "# 7. to print the elements in the list alternatively\n",
        "list2.reverse()\n",
        "print(list2[0:5:2])"
      ],
      "metadata": {
        "colab": {
          "base_uri": "https://localhost:8080/"
        },
        "id": "8OQZ-0LaLTE6",
        "outputId": "dad70ebf-01f9-48cc-d39a-1658306f4b59"
      },
      "execution_count": 16,
      "outputs": [
        {
          "output_type": "stream",
          "name": "stdout",
          "text": [
            "[3, 4.5, 'me']\n"
          ]
        }
      ]
    },
    {
      "cell_type": "markdown",
      "source": [
        "8. start index and stop index - element from this start index no till (stop index - 1) no must be displayed when print() function is called\n",
        "\n",
        "step index - the no by which the index no must be incremented\n",
        "\n",
        "for printing all the elements the step index should be\n",
        "\n",
        "1 --> as after every iteration the next element to be accessed will have (start index +1)index no for printing alternate numbers\n",
        "\n",
        "2 --> as after every iteration the next element to be accessed will have (start index + 2)index no and so on."
      ],
      "metadata": {
        "id": "6eoYi1kELhV1"
      }
    },
    {
      "cell_type": "code",
      "source": [
        "# 9. to update a list\n",
        "list2[2] = \"teddy\"\n",
        "print(list2)"
      ],
      "metadata": {
        "colab": {
          "base_uri": "https://localhost:8080/"
        },
        "id": "3Xd3lCtLOzoV",
        "outputId": "1c287e9b-3afc-484a-f577-0587a5a69a01"
      },
      "execution_count": 17,
      "outputs": [
        {
          "output_type": "stream",
          "name": "stdout",
          "text": [
            "[3, 4, 'teddy', 5.6, 'me', 'you']\n"
          ]
        }
      ]
    },
    {
      "cell_type": "code",
      "source": [
        "# 10. to add an element to the end of the list\n",
        "list2.append(4.5)\n",
        "print(list2)"
      ],
      "metadata": {
        "colab": {
          "base_uri": "https://localhost:8080/"
        },
        "id": "pVufJhiyO_4Z",
        "outputId": "3a530a82-287a-4a8d-d220-ae223207d04e"
      },
      "execution_count": 18,
      "outputs": [
        {
          "output_type": "stream",
          "name": "stdout",
          "text": [
            "[3, 4, 'teddy', 5.6, 'me', 'you', 4.5]\n"
          ]
        }
      ]
    },
    {
      "cell_type": "code",
      "source": [
        "# 11. to insert an element at a particular index in the list\n",
        "list2.insert(2,6.6)\n",
        "print(list2)"
      ],
      "metadata": {
        "colab": {
          "base_uri": "https://localhost:8080/"
        },
        "id": "swGplUK8POjI",
        "outputId": "db6d6710-9786-4b6a-ebbf-3868980c0dbb"
      },
      "execution_count": 19,
      "outputs": [
        {
          "output_type": "stream",
          "name": "stdout",
          "text": [
            "[3, 4, 6.6, 'teddy', 5.6, 'me', 'you', 4.5]\n"
          ]
        }
      ]
    },
    {
      "cell_type": "code",
      "source": [
        "# 12. to remove an element in the list using the value of the element\n",
        "list2.remove(5.6)\n",
        "print(list2)"
      ],
      "metadata": {
        "colab": {
          "base_uri": "https://localhost:8080/"
        },
        "id": "GYpA6B_7Pzm4",
        "outputId": "d8062ff5-76be-43a4-a35d-9947ff9aeb29"
      },
      "execution_count": 20,
      "outputs": [
        {
          "output_type": "stream",
          "name": "stdout",
          "text": [
            "[3, 4, 6.6, 'teddy', 'me', 'you', 4.5]\n"
          ]
        }
      ]
    },
    {
      "cell_type": "code",
      "source": [
        "# 13. to remove an element in the list using the index value of the element\n",
        "del list2[2]\n",
        "print(list2)"
      ],
      "metadata": {
        "colab": {
          "base_uri": "https://localhost:8080/"
        },
        "id": "G_nvjV7FQHaB",
        "outputId": "04b5e87e-ca2c-4bee-8c5f-67e0caa5c98e"
      },
      "execution_count": 21,
      "outputs": [
        {
          "output_type": "stream",
          "name": "stdout",
          "text": [
            "[3, 4, 'teddy', 'me', 'you', 4.5]\n"
          ]
        }
      ]
    },
    {
      "cell_type": "code",
      "source": [
        "# 14. to find the number of elements in the list\n",
        "print(len(list2))"
      ],
      "metadata": {
        "colab": {
          "base_uri": "https://localhost:8080/"
        },
        "id": "_x4V5sZ1Qd4D",
        "outputId": "73104da5-9709-47da-9b43-f9fafb86e37d"
      },
      "execution_count": 22,
      "outputs": [
        {
          "output_type": "stream",
          "name": "stdout",
          "text": [
            "6\n"
          ]
        }
      ]
    },
    {
      "cell_type": "code",
      "source": [
        "# 15. to find the datatype of variable list2\n",
        "print(type(list2))"
      ],
      "metadata": {
        "colab": {
          "base_uri": "https://localhost:8080/"
        },
        "id": "OdGHqP6mQpq5",
        "outputId": "66e2b891-801f-441c-d2a7-d6ba27c26399"
      },
      "execution_count": 23,
      "outputs": [
        {
          "output_type": "stream",
          "name": "stdout",
          "text": [
            "<class 'list'>\n"
          ]
        }
      ]
    },
    {
      "cell_type": "code",
      "source": [
        "# 16. to add a sequence as an element to the end of the list\n",
        "list2.append([7,8,9])\n",
        "print(list2)"
      ],
      "metadata": {
        "colab": {
          "base_uri": "https://localhost:8080/"
        },
        "id": "E_TYNbbhQ1Ze",
        "outputId": "fdc1eee9-b7ad-4224-fad8-0054ac4dedec"
      },
      "execution_count": 24,
      "outputs": [
        {
          "output_type": "stream",
          "name": "stdout",
          "text": [
            "[3, 4, 'teddy', 'me', 'you', 4.5, [7, 8, 9]]\n"
          ]
        }
      ]
    },
    {
      "cell_type": "markdown",
      "source": [
        "17. yes. multiple arguments can be given in the form of list as shown in the 16th problem"
      ],
      "metadata": {
        "id": "X9q_nyv9Rsy-"
      }
    },
    {
      "cell_type": "code",
      "source": [
        "list2.append(7,8,9)\n",
        "print(list2)"
      ],
      "metadata": {
        "colab": {
          "base_uri": "https://localhost:8080/",
          "height": 183
        },
        "id": "p7VaanNmS94Z",
        "outputId": "72e9fa89-4b6b-44a5-8680-5156bcef76f3"
      },
      "execution_count": 25,
      "outputs": [
        {
          "output_type": "error",
          "ename": "TypeError",
          "evalue": "ignored",
          "traceback": [
            "\u001b[0;31m---------------------------------------------------------------------------\u001b[0m",
            "\u001b[0;31mTypeError\u001b[0m                                 Traceback (most recent call last)",
            "\u001b[0;32m<ipython-input-25-57f5b0f696c3>\u001b[0m in \u001b[0;36m<cell line: 1>\u001b[0;34m()\u001b[0m\n\u001b[0;32m----> 1\u001b[0;31m \u001b[0mlist2\u001b[0m\u001b[0;34m.\u001b[0m\u001b[0mappend\u001b[0m\u001b[0;34m(\u001b[0m\u001b[0;36m7\u001b[0m\u001b[0;34m,\u001b[0m\u001b[0;36m8\u001b[0m\u001b[0;34m,\u001b[0m\u001b[0;36m9\u001b[0m\u001b[0;34m)\u001b[0m\u001b[0;34m\u001b[0m\u001b[0;34m\u001b[0m\u001b[0m\n\u001b[0m\u001b[1;32m      2\u001b[0m \u001b[0mprint\u001b[0m\u001b[0;34m(\u001b[0m\u001b[0mlist2\u001b[0m\u001b[0;34m)\u001b[0m\u001b[0;34m\u001b[0m\u001b[0;34m\u001b[0m\u001b[0m\n",
            "\u001b[0;31mTypeError\u001b[0m: list.append() takes exactly one argument (3 given)"
          ]
        }
      ]
    },
    {
      "cell_type": "code",
      "source": [
        "# 18. to insert in a sequence of elements at a particular index of the list\n",
        "list2.insert(2,[9,8])\n",
        "print(list2)"
      ],
      "metadata": {
        "colab": {
          "base_uri": "https://localhost:8080/"
        },
        "id": "oVPgmnz_TKCv",
        "outputId": "1b6b774c-4c25-4d8e-9a9d-c3229321e439"
      },
      "execution_count": 26,
      "outputs": [
        {
          "output_type": "stream",
          "name": "stdout",
          "text": [
            "[3, 4, [9, 8], 'teddy', 'me', 'you', 4.5, [7, 8, 9]]\n"
          ]
        }
      ]
    },
    {
      "cell_type": "code",
      "source": [
        "# 19. to remove a sequence of elements in the list using the values of the elements\n",
        "list2.remove([9,8])\n",
        "print(list2)"
      ],
      "metadata": {
        "colab": {
          "base_uri": "https://localhost:8080/"
        },
        "id": "PkrKiWOLTfrd",
        "outputId": "56566209-8095-40fa-94d5-ae15e3fa84f7"
      },
      "execution_count": 27,
      "outputs": [
        {
          "output_type": "stream",
          "name": "stdout",
          "text": [
            "[3, 4, 'teddy', 'me', 'you', 4.5, [7, 8, 9]]\n"
          ]
        }
      ]
    },
    {
      "cell_type": "code",
      "source": [
        "list2.remove(3,4)\n",
        "print(list2)"
      ],
      "metadata": {
        "colab": {
          "base_uri": "https://localhost:8080/",
          "height": 183
        },
        "id": "PRw8vq58T2mA",
        "outputId": "05a0539b-7b0a-4b82-d55b-098835ddb401"
      },
      "execution_count": 28,
      "outputs": [
        {
          "output_type": "error",
          "ename": "TypeError",
          "evalue": "ignored",
          "traceback": [
            "\u001b[0;31m---------------------------------------------------------------------------\u001b[0m",
            "\u001b[0;31mTypeError\u001b[0m                                 Traceback (most recent call last)",
            "\u001b[0;32m<ipython-input-28-97690e493864>\u001b[0m in \u001b[0;36m<cell line: 1>\u001b[0;34m()\u001b[0m\n\u001b[0;32m----> 1\u001b[0;31m \u001b[0mlist2\u001b[0m\u001b[0;34m.\u001b[0m\u001b[0mremove\u001b[0m\u001b[0;34m(\u001b[0m\u001b[0;36m3\u001b[0m\u001b[0;34m,\u001b[0m\u001b[0;36m4\u001b[0m\u001b[0;34m)\u001b[0m\u001b[0;34m\u001b[0m\u001b[0;34m\u001b[0m\u001b[0m\n\u001b[0m\u001b[1;32m      2\u001b[0m \u001b[0mprint\u001b[0m\u001b[0;34m(\u001b[0m\u001b[0mlist2\u001b[0m\u001b[0;34m)\u001b[0m\u001b[0;34m\u001b[0m\u001b[0;34m\u001b[0m\u001b[0m\n",
            "\u001b[0;31mTypeError\u001b[0m: list.remove() takes exactly one argument (2 given)"
          ]
        }
      ]
    },
    {
      "cell_type": "markdown",
      "source": [
        "20. yes. to remove a sequence of elements it can be only done if it is within a list as shown in the 19th problem"
      ],
      "metadata": {
        "id": "55oDOq4CUFFp"
      }
    },
    {
      "cell_type": "code",
      "source": [
        "# 21. to remove a sequence of elements in the list using the index no of the elements\n",
        "del list2[2:5]\n",
        "print(list2)"
      ],
      "metadata": {
        "colab": {
          "base_uri": "https://localhost:8080/"
        },
        "id": "br71w9usUWxa",
        "outputId": "8860eea1-b11f-4bd8-e0e1-705a719ab876"
      },
      "execution_count": 29,
      "outputs": [
        {
          "output_type": "stream",
          "name": "stdout",
          "text": [
            "[3, 4, 4.5, [7, 8, 9]]\n"
          ]
        }
      ]
    }
  ]
}